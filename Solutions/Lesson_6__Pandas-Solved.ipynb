{
 "cells": [
  {
   "cell_type": "markdown",
   "metadata": {},
   "source": [
    "# Data wrangling with Pandas"
   ]
  },
  {
   "cell_type": "markdown",
   "metadata": {},
   "source": [
    "The Pandas library provides a helpful and efficient framework to process and visualize (large) datasets.\n",
    "This tutorial introduces some key features of the pandas library, and is a (lightly) modified version of a tutorial from [Aalto Scientific Computing](https://aaltoscicomp.github.io/python-for-scicomp/pandas/). See also [\"10 minutes to pandas\"](https://pandas.pydata.org/docs/user_guide/10min.html).\n"
   ]
  },
  {
   "cell_type": "markdown",
   "metadata": {},
   "source": [
    "If you don't yet have the pandas library for python installed, you can do so by executing the following cell (note you only need to do this once -- after the installation completes, then you just need to import the library)"
   ]
  },
  {
   "cell_type": "code",
   "execution_count": 60,
   "metadata": {},
   "outputs": [],
   "source": [
    "# uncomment the following line to install pandas\n",
    "#!pip install pandas  "
   ]
  },
  {
   "cell_type": "code",
   "execution_count": 61,
   "metadata": {},
   "outputs": [],
   "source": [
    "# once you have installed pandas, you can import it\n",
    "# (along with numpy, which we will also be using)\n",
    "import pandas as pd\n",
    "import numpy as np"
   ]
  },
  {
   "cell_type": "markdown",
   "metadata": {},
   "source": [
    "# Basic data structures in pandas\n",
    "Pandas provides two types of classes for handling data:\n",
    "1) [Series](https://pandas.pydata.org/docs/reference/api/pandas.Series.html#pandas.Series): a one-dimensional labeled array holding data of any type such as integers, strings, Python objects etc.\n",
    "2) [DataFrame](https://pandas.pydata.org/docs/reference/api/pandas.DataFrame.html#pandas.DataFrame): a two-dimensional data structure that holds data like a two-dimension array or a table with rows and columns\n",
    "\n",
    "Very loosely, a DataFrame is like a spreadsheet, with rows and columns, and a Series is like a single column from the DataFrame.\n",
    "\n",
    "For more information, see the [Intro to data structures](https://pandas.pydata.org/docs/user_guide/dsintro.html#dsintro) page."
   ]
  },
  {
   "cell_type": "markdown",
   "metadata": {},
   "source": [
    "# Object creation\n",
    "We can read in a `.csv` file (comma-separated values) from the web -- in this case, a database of passengers on the Titanic. The data will be stored in a pandas DataFrame:"
   ]
  },
  {
   "cell_type": "code",
   "execution_count": 63,
   "metadata": {},
   "outputs": [],
   "source": [
    "url = \"https://raw.githubusercontent.com/pandas-dev/pandas/master/doc/data/titanic.csv\"\n",
    "titanic = pd.read_csv(url, index_col='Name')"
   ]
  },
  {
   "cell_type": "markdown",
   "metadata": {},
   "source": [
    "View the dataframe to get an idea of what it contains and print some summary statistics of its numerical data:"
   ]
  },
  {
   "cell_type": "code",
   "execution_count": 64,
   "metadata": {},
   "outputs": [
    {
     "name": "stdout",
     "output_type": "stream",
     "text": [
      "                                                    PassengerId  Survived  \\\n",
      "Name                                                                        \n",
      "Braund, Mr. Owen Harris                                       1         0   \n",
      "Cumings, Mrs. John Bradley (Florence Briggs Tha...            2         1   \n",
      "Heikkinen, Miss. Laina                                        3         1   \n",
      "Futrelle, Mrs. Jacques Heath (Lily May Peel)                  4         1   \n",
      "Allen, Mr. William Henry                                      5         0   \n",
      "\n",
      "                                                    Pclass     Sex   Age  \\\n",
      "Name                                                                       \n",
      "Braund, Mr. Owen Harris                                  3    male  22.0   \n",
      "Cumings, Mrs. John Bradley (Florence Briggs Tha...       1  female  38.0   \n",
      "Heikkinen, Miss. Laina                                   3  female  26.0   \n",
      "Futrelle, Mrs. Jacques Heath (Lily May Peel)             1  female  35.0   \n",
      "Allen, Mr. William Henry                                 3    male  35.0   \n",
      "\n",
      "                                                    SibSp  Parch  \\\n",
      "Name                                                               \n",
      "Braund, Mr. Owen Harris                                 1      0   \n",
      "Cumings, Mrs. John Bradley (Florence Briggs Tha...      1      0   \n",
      "Heikkinen, Miss. Laina                                  0      0   \n",
      "Futrelle, Mrs. Jacques Heath (Lily May Peel)            1      0   \n",
      "Allen, Mr. William Henry                                0      0   \n",
      "\n",
      "                                                              Ticket     Fare  \\\n",
      "Name                                                                            \n",
      "Braund, Mr. Owen Harris                                    A/5 21171   7.2500   \n",
      "Cumings, Mrs. John Bradley (Florence Briggs Tha...          PC 17599  71.2833   \n",
      "Heikkinen, Miss. Laina                              STON/O2. 3101282   7.9250   \n",
      "Futrelle, Mrs. Jacques Heath (Lily May Peel)                  113803  53.1000   \n",
      "Allen, Mr. William Henry                                      373450   8.0500   \n",
      "\n",
      "                                                   Cabin Embarked  \n",
      "Name                                                               \n",
      "Braund, Mr. Owen Harris                              NaN        S  \n",
      "Cumings, Mrs. John Bradley (Florence Briggs Tha...   C85        C  \n",
      "Heikkinen, Miss. Laina                               NaN        S  \n",
      "Futrelle, Mrs. Jacques Heath (Lily May Peel)        C123        S  \n",
      "Allen, Mr. William Henry                             NaN        S  \n",
      "       PassengerId    Survived      Pclass         Age       SibSp  \\\n",
      "count   891.000000  891.000000  891.000000  714.000000  891.000000   \n",
      "mean    446.000000    0.383838    2.308642   29.699118    0.523008   \n",
      "std     257.353842    0.486592    0.836071   14.526497    1.102743   \n",
      "min       1.000000    0.000000    1.000000    0.420000    0.000000   \n",
      "25%     223.500000    0.000000    2.000000   20.125000    0.000000   \n",
      "50%     446.000000    0.000000    3.000000   28.000000    0.000000   \n",
      "75%     668.500000    1.000000    3.000000   38.000000    1.000000   \n",
      "max     891.000000    1.000000    3.000000   80.000000    8.000000   \n",
      "\n",
      "            Parch        Fare  \n",
      "count  891.000000  891.000000  \n",
      "mean     0.381594   32.204208  \n",
      "std      0.806057   49.693429  \n",
      "min      0.000000    0.000000  \n",
      "25%      0.000000    7.910400  \n",
      "50%      0.000000   14.454200  \n",
      "75%      0.000000   31.000000  \n",
      "max      6.000000  512.329200  \n"
     ]
    }
   ],
   "source": [
    "# print the first 5 lines of the dataframe\n",
    "print(titanic.head())\n",
    "# print summary statistics for each column\n",
    "print(titanic.describe())"
   ]
  },
  {
   "cell_type": "markdown",
   "metadata": {},
   "source": [
    "Ok, so we have information on passenger names, survival (0 or 1), age, ticket fare, number of siblings/spouses, etc. With the summary statistics we see that the average age is 29.7 years, maximum ticket price is 512 USD, 38% of passengers survived, etc.\n",
    "\n",
    "Let’s say we’re interested in the survival probability of different age groups. With two one-liners, we can find the average age of those who survived or didn’t survive, and plot corresponding histograms of the age distribution (`pandas.DataFrame.groupby()`, `pandas.DataFrame.hist()`):"
   ]
  },
  {
   "cell_type": "code",
   "execution_count": 65,
   "metadata": {},
   "outputs": [
    {
     "name": "stdout",
     "output_type": "stream",
     "text": [
      "Survived\n",
      "0    30.626179\n",
      "1    28.343690\n",
      "Name: Age, dtype: float64\n"
     ]
    },
    {
     "data": {
      "image/png": "[encoded data removed]",
      "text/plain": [
       "<Figure size 1000x400 with 2 Axes>"
      ]
     },
     "metadata": {},
     "output_type": "display_data"
    }
   ],
   "source": [
    "print(titanic.groupby(\"Survived\")[\"Age\"].mean())\n",
    "titanic.hist(column='Age', by='Survived', bins=25, figsize=(10,4),\n",
    "             layout=(1,2), zorder=2, sharex=True, rwidth=0.9);"
   ]
  },
  {
   "cell_type": "markdown",
   "metadata": {},
   "source": [
    "Series and DataFrames have a lot functionality, but how can we find out what methods are available and how they work? One way is to visit the [API reference](https://pandas.pydata.org/docs/reference/frame.html) and reading through the list. Another way is to use the autocompletion feature in Jupyter and type e.g. `titanic[\"Age\"].` in a notebook and then hit `TAB` twice - this should open up a list menu of available methods and attributes.\n",
    "\n",
    "Jupyter also offers quick access to help pages (docstrings) which can be more efficient than searching the internet. Two ways exist:\n",
    "\n",
    "Write a function name followed by question mark and execute the cell, e.g. write `titanic.hist?` and hit `SHIFT + ENTER`.\n",
    "\n",
    "Write the function name and hit `SHIFT + TAB`.\n",
    "\n",
    "Right click and select “Show contextual help”. This tab will update with help for anything you click."
   ]
  },
  {
   "cell_type": "markdown",
   "metadata": {},
   "source": [
    "# What’s in a DataFrame?\n",
    "As we saw above, pandas dataframes are a powerful tool for working with tabular data. A pandas `pandas.DataFrame` is composed of rows and columns. Each column of a dataframe is a `pandas.Series` object - a dataframe is thus a collection of series"
   ]
  },
  {
   "cell_type": "code",
   "execution_count": 66,
   "metadata": {},
   "outputs": [
    {
     "name": "stdout",
     "output_type": "stream",
     "text": [
      "<class 'pandas.core.frame.DataFrame'>\n",
      "Index: 891 entries, Braund, Mr. Owen Harris to Dooley, Mr. Patrick\n",
      "Data columns (total 11 columns):\n",
      " #   Column       Non-Null Count  Dtype  \n",
      "---  ------       --------------  -----  \n",
      " 0   PassengerId  891 non-null    int64  \n",
      " 1   Survived     891 non-null    int64  \n",
      " 2   Pclass       891 non-null    int64  \n",
      " 3   Sex          891 non-null    object \n",
      " 4   Age          714 non-null    float64\n",
      " 5   SibSp        891 non-null    int64  \n",
      " 6   Parch        891 non-null    int64  \n",
      " 7   Ticket       891 non-null    object \n",
      " 8   Fare         891 non-null    float64\n",
      " 9   Cabin        204 non-null    object \n",
      " 10  Embarked     889 non-null    object \n",
      "dtypes: float64(2), int64(5), object(4)\n",
      "memory usage: 83.5+ KB\n"
     ]
    }
   ],
   "source": [
    "# print some information about the columns\n",
    "titanic.info()"
   ]
  },
  {
   "cell_type": "markdown",
   "metadata": {},
   "source": [
    "Unlike a NumPy array, a dataframe can combine multiple data types, such as numbers and text, but the data in each column is of the same type. So we say a column is of type `int64` or of type `object`.\n",
    "\n",
    "Let’s inspect one column of the Titanic passenger list data (first downloading and reading the titanic.csv datafile into a dataframe if needed, see above):"
   ]
  },
  {
   "cell_type": "code",
   "execution_count": 67,
   "metadata": {},
   "outputs": [
    {
     "name": "stdout",
     "output_type": "stream",
     "text": [
      "Name\n",
      "Braund, Mr. Owen Harris                                22.0\n",
      "Cumings, Mrs. John Bradley (Florence Briggs Thayer)    38.0\n",
      "Heikkinen, Miss. Laina                                 26.0\n",
      "Futrelle, Mrs. Jacques Heath (Lily May Peel)           35.0\n",
      "Allen, Mr. William Henry                               35.0\n",
      "                                                       ... \n",
      "Montvila, Rev. Juozas                                  27.0\n",
      "Graham, Miss. Margaret Edith                           19.0\n",
      "Johnston, Miss. Catherine Helen \"Carrie\"                NaN\n",
      "Behr, Mr. Karl Howell                                  26.0\n",
      "Dooley, Mr. Patrick                                    32.0\n",
      "Name: Age, Length: 891, dtype: float64\n",
      "Name\n",
      "Braund, Mr. Owen Harris                                22.0\n",
      "Cumings, Mrs. John Bradley (Florence Briggs Thayer)    38.0\n",
      "Heikkinen, Miss. Laina                                 26.0\n",
      "Futrelle, Mrs. Jacques Heath (Lily May Peel)           35.0\n",
      "Allen, Mr. William Henry                               35.0\n",
      "                                                       ... \n",
      "Montvila, Rev. Juozas                                  27.0\n",
      "Graham, Miss. Margaret Edith                           19.0\n",
      "Johnston, Miss. Catherine Helen \"Carrie\"                NaN\n",
      "Behr, Mr. Karl Howell                                  26.0\n",
      "Dooley, Mr. Patrick                                    32.0\n",
      "Name: Age, Length: 891, dtype: float64\n"
     ]
    },
    {
     "data": {
      "text/plain": [
       "pandas.core.series.Series"
      ]
     },
     "execution_count": 67,
     "metadata": {},
     "output_type": "execute_result"
    }
   ],
   "source": [
    "print(titanic[\"Age\"])\n",
    "print(titanic.Age)          # same as above\n",
    "type(titanic[\"Age\"]) # a pandas Series object"
   ]
  },
  {
   "cell_type": "markdown",
   "metadata": {},
   "source": [
    "The columns have names. Here’s how to get them (`columns`):"
   ]
  },
  {
   "cell_type": "code",
   "execution_count": 68,
   "metadata": {},
   "outputs": [
    {
     "data": {
      "text/plain": [
       "Index(['PassengerId', 'Survived', 'Pclass', 'Sex', 'Age', 'SibSp', 'Parch',\n",
       "       'Ticket', 'Fare', 'Cabin', 'Embarked'],\n",
       "      dtype='object')"
      ]
     },
     "execution_count": 68,
     "metadata": {},
     "output_type": "execute_result"
    }
   ],
   "source": [
    "titanic.columns"
   ]
  },
  {
   "cell_type": "markdown",
   "metadata": {},
   "source": [
    "However, the rows also have names! This is what Pandas calls the `index`:"
   ]
  },
  {
   "cell_type": "code",
   "execution_count": 69,
   "metadata": {},
   "outputs": [
    {
     "data": {
      "text/plain": [
       "Index(['Braund, Mr. Owen Harris',\n",
       "       'Cumings, Mrs. John Bradley (Florence Briggs Thayer)',\n",
       "       'Heikkinen, Miss. Laina',\n",
       "       'Futrelle, Mrs. Jacques Heath (Lily May Peel)',\n",
       "       'Allen, Mr. William Henry', 'Moran, Mr. James',\n",
       "       'McCarthy, Mr. Timothy J', 'Palsson, Master. Gosta Leonard',\n",
       "       'Johnson, Mrs. Oscar W (Elisabeth Vilhelmina Berg)',\n",
       "       'Nasser, Mrs. Nicholas (Adele Achem)',\n",
       "       ...\n",
       "       'Markun, Mr. Johann', 'Dahlberg, Miss. Gerda Ulrika',\n",
       "       'Banfield, Mr. Frederick James', 'Sutehall, Mr. Henry Jr',\n",
       "       'Rice, Mrs. William (Margaret Norton)', 'Montvila, Rev. Juozas',\n",
       "       'Graham, Miss. Margaret Edith',\n",
       "       'Johnston, Miss. Catherine Helen \"Carrie\"', 'Behr, Mr. Karl Howell',\n",
       "       'Dooley, Mr. Patrick'],\n",
       "      dtype='object', name='Name', length=891)"
      ]
     },
     "execution_count": 69,
     "metadata": {},
     "output_type": "execute_result"
    }
   ],
   "source": [
    "titanic.index"
   ]
  },
  {
   "cell_type": "markdown",
   "metadata": {},
   "source": [
    "We saw above how to select a single column, but there are many ways of selecting (and setting) single or multiple rows, columns and values. We can refer to columns and rows either by their name (`loc`, `at`) or by their index (`iloc`, `iat`):"
   ]
  },
  {
   "cell_type": "code",
   "execution_count": 90,
   "metadata": {},
   "outputs": [],
   "source": [
    "# Uncomment one line at a time and re-run the cell to check the output/effect\n",
    "\n",
    "#titanic.loc['Lam, Mr. Ali',\"Age\"]          # select single value by row and column\n",
    "\n",
    "#titanic.loc[:'Heikkinen, Miss. Laina',\"Survived\":\"Age\"]  # slice the dataframe by row and column *names*\n",
    "#titanic.iloc[0:3,1:5]                      # same slice as above by row and column *numbers*\n",
    "\n",
    "#titanic.at['Heikkinen, Miss. Laina',\"Age\"] = 42      # set single value by row and column *name* (fast)\n",
    "#titanic.at['Heikkinen, Miss. Laina',\"Age\"]           # select single value by row and column *name* (fast)\n",
    "#titanic.iat[2,4]                           # select same value by row and column *number* (fast)\n",
    "\n",
    "#titanic[\"is_passenger\"] = True             # set a whole column"
   ]
  },
  {
   "cell_type": "markdown",
   "metadata": {},
   "source": [
    "Dataframes also support boolean indexing, just like for `numpy` arrays:"
   ]
  },
  {
   "cell_type": "code",
   "execution_count": 93,
   "metadata": {},
   "outputs": [
    {
     "data": {
      "text/html": [
       "<div>\n",
       "<style scoped>\n",
       "    .dataframe tbody tr th:only-of-type {\n",
       "        vertical-align: middle;\n",
       "    }\n",
       "\n",
       "    .dataframe tbody tr th {\n",
       "        vertical-align: top;\n",
       "    }\n",
       "\n",
       "    .dataframe thead th {\n",
       "        text-align: right;\n",
       "    }\n",
       "</style>\n",
       "<table border=\"1\" class=\"dataframe\">\n",
       "  <thead>\n",
       "    <tr style=\"text-align: right;\">\n",
       "      <th></th>\n",
       "      <th>PassengerId</th>\n",
       "      <th>Survived</th>\n",
       "      <th>Pclass</th>\n",
       "      <th>Sex</th>\n",
       "      <th>Age</th>\n",
       "      <th>SibSp</th>\n",
       "      <th>Parch</th>\n",
       "      <th>Ticket</th>\n",
       "      <th>Fare</th>\n",
       "      <th>Cabin</th>\n",
       "      <th>Embarked</th>\n",
       "      <th>is_passenger</th>\n",
       "    </tr>\n",
       "    <tr>\n",
       "      <th>Name</th>\n",
       "      <th></th>\n",
       "      <th></th>\n",
       "      <th></th>\n",
       "      <th></th>\n",
       "      <th></th>\n",
       "      <th></th>\n",
       "      <th></th>\n",
       "      <th></th>\n",
       "      <th></th>\n",
       "      <th></th>\n",
       "      <th></th>\n",
       "      <th></th>\n",
       "    </tr>\n",
       "  </thead>\n",
       "  <tbody>\n",
       "    <tr>\n",
       "      <th>Goldschmidt, Mr. George B</th>\n",
       "      <td>97</td>\n",
       "      <td>0</td>\n",
       "      <td>1</td>\n",
       "      <td>male</td>\n",
       "      <td>71.0</td>\n",
       "      <td>0</td>\n",
       "      <td>0</td>\n",
       "      <td>PC 17754</td>\n",
       "      <td>34.6542</td>\n",
       "      <td>A5</td>\n",
       "      <td>C</td>\n",
       "      <td>True</td>\n",
       "    </tr>\n",
       "    <tr>\n",
       "      <th>Connors, Mr. Patrick</th>\n",
       "      <td>117</td>\n",
       "      <td>0</td>\n",
       "      <td>3</td>\n",
       "      <td>male</td>\n",
       "      <td>70.5</td>\n",
       "      <td>0</td>\n",
       "      <td>0</td>\n",
       "      <td>370369</td>\n",
       "      <td>7.7500</td>\n",
       "      <td>NaN</td>\n",
       "      <td>Q</td>\n",
       "      <td>True</td>\n",
       "    </tr>\n",
       "    <tr>\n",
       "      <th>Artagaveytia, Mr. Ramon</th>\n",
       "      <td>494</td>\n",
       "      <td>0</td>\n",
       "      <td>1</td>\n",
       "      <td>male</td>\n",
       "      <td>71.0</td>\n",
       "      <td>0</td>\n",
       "      <td>0</td>\n",
       "      <td>PC 17609</td>\n",
       "      <td>49.5042</td>\n",
       "      <td>NaN</td>\n",
       "      <td>C</td>\n",
       "      <td>True</td>\n",
       "    </tr>\n",
       "    <tr>\n",
       "      <th>Barkworth, Mr. Algernon Henry Wilson</th>\n",
       "      <td>631</td>\n",
       "      <td>1</td>\n",
       "      <td>1</td>\n",
       "      <td>male</td>\n",
       "      <td>80.0</td>\n",
       "      <td>0</td>\n",
       "      <td>0</td>\n",
       "      <td>27042</td>\n",
       "      <td>30.0000</td>\n",
       "      <td>A23</td>\n",
       "      <td>S</td>\n",
       "      <td>True</td>\n",
       "    </tr>\n",
       "    <tr>\n",
       "      <th>Svensson, Mr. Johan</th>\n",
       "      <td>852</td>\n",
       "      <td>0</td>\n",
       "      <td>3</td>\n",
       "      <td>male</td>\n",
       "      <td>74.0</td>\n",
       "      <td>0</td>\n",
       "      <td>0</td>\n",
       "      <td>347060</td>\n",
       "      <td>7.7750</td>\n",
       "      <td>NaN</td>\n",
       "      <td>S</td>\n",
       "      <td>True</td>\n",
       "    </tr>\n",
       "  </tbody>\n",
       "</table>\n",
       "</div>"
      ],
      "text/plain": [
       "                                      PassengerId  Survived  Pclass   Sex  \\\n",
       "Name                                                                        \n",
       "Goldschmidt, Mr. George B                      97         0       1  male   \n",
       "Connors, Mr. Patrick                          117         0       3  male   \n",
       "Artagaveytia, Mr. Ramon                       494         0       1  male   \n",
       "Barkworth, Mr. Algernon Henry Wilson          631         1       1  male   \n",
       "Svensson, Mr. Johan                           852         0       3  male   \n",
       "\n",
       "                                       Age  SibSp  Parch    Ticket     Fare  \\\n",
       "Name                                                                          \n",
       "Goldschmidt, Mr. George B             71.0      0      0  PC 17754  34.6542   \n",
       "Connors, Mr. Patrick                  70.5      0      0    370369   7.7500   \n",
       "Artagaveytia, Mr. Ramon               71.0      0      0  PC 17609  49.5042   \n",
       "Barkworth, Mr. Algernon Henry Wilson  80.0      0      0     27042  30.0000   \n",
       "Svensson, Mr. Johan                   74.0      0      0    347060   7.7750   \n",
       "\n",
       "                                     Cabin Embarked  is_passenger  \n",
       "Name                                                               \n",
       "Goldschmidt, Mr. George B               A5        C          True  \n",
       "Connors, Mr. Patrick                   NaN        Q          True  \n",
       "Artagaveytia, Mr. Ramon                NaN        C          True  \n",
       "Barkworth, Mr. Algernon Henry Wilson   A23        S          True  \n",
       "Svensson, Mr. Johan                    NaN        S          True  "
      ]
     },
     "execution_count": 93,
     "metadata": {},
     "output_type": "execute_result"
    }
   ],
   "source": [
    "titanic[titanic[\"Age\"] > 70]"
   ]
  },
  {
   "cell_type": "code",
   "execution_count": 94,
   "metadata": {},
   "outputs": [
    {
     "data": {
      "text/html": [
       "<div>\n",
       "<style scoped>\n",
       "    .dataframe tbody tr th:only-of-type {\n",
       "        vertical-align: middle;\n",
       "    }\n",
       "\n",
       "    .dataframe tbody tr th {\n",
       "        vertical-align: top;\n",
       "    }\n",
       "\n",
       "    .dataframe thead th {\n",
       "        text-align: right;\n",
       "    }\n",
       "</style>\n",
       "<table border=\"1\" class=\"dataframe\">\n",
       "  <thead>\n",
       "    <tr style=\"text-align: right;\">\n",
       "      <th></th>\n",
       "      <th>PassengerId</th>\n",
       "      <th>Survived</th>\n",
       "      <th>Pclass</th>\n",
       "      <th>Sex</th>\n",
       "      <th>Age</th>\n",
       "      <th>SibSp</th>\n",
       "      <th>Parch</th>\n",
       "      <th>Ticket</th>\n",
       "      <th>Fare</th>\n",
       "      <th>Cabin</th>\n",
       "      <th>Embarked</th>\n",
       "      <th>is_passenger</th>\n",
       "    </tr>\n",
       "    <tr>\n",
       "      <th>Name</th>\n",
       "      <th></th>\n",
       "      <th></th>\n",
       "      <th></th>\n",
       "      <th></th>\n",
       "      <th></th>\n",
       "      <th></th>\n",
       "      <th></th>\n",
       "      <th></th>\n",
       "      <th></th>\n",
       "      <th></th>\n",
       "      <th></th>\n",
       "      <th></th>\n",
       "    </tr>\n",
       "  </thead>\n",
       "  <tbody>\n",
       "    <tr>\n",
       "      <th>Devaney, Miss. Margaret Delia</th>\n",
       "      <td>45</td>\n",
       "      <td>1</td>\n",
       "      <td>3</td>\n",
       "      <td>female</td>\n",
       "      <td>19.0</td>\n",
       "      <td>0</td>\n",
       "      <td>0</td>\n",
       "      <td>330958</td>\n",
       "      <td>7.8792</td>\n",
       "      <td>NaN</td>\n",
       "      <td>Q</td>\n",
       "      <td>True</td>\n",
       "    </tr>\n",
       "    <tr>\n",
       "      <th>Brown, Mrs. James Joseph (Margaret Tobin)</th>\n",
       "      <td>195</td>\n",
       "      <td>1</td>\n",
       "      <td>1</td>\n",
       "      <td>female</td>\n",
       "      <td>44.0</td>\n",
       "      <td>0</td>\n",
       "      <td>0</td>\n",
       "      <td>PC 17610</td>\n",
       "      <td>27.7208</td>\n",
       "      <td>B4</td>\n",
       "      <td>C</td>\n",
       "      <td>True</td>\n",
       "    </tr>\n",
       "    <tr>\n",
       "      <th>Madigan, Miss. Margaret \"Maggie\"</th>\n",
       "      <td>199</td>\n",
       "      <td>1</td>\n",
       "      <td>3</td>\n",
       "      <td>female</td>\n",
       "      <td>NaN</td>\n",
       "      <td>0</td>\n",
       "      <td>0</td>\n",
       "      <td>370370</td>\n",
       "      <td>7.7500</td>\n",
       "      <td>NaN</td>\n",
       "      <td>Q</td>\n",
       "      <td>True</td>\n",
       "    </tr>\n",
       "    <tr>\n",
       "      <th>Fleming, Miss. Margaret</th>\n",
       "      <td>307</td>\n",
       "      <td>1</td>\n",
       "      <td>1</td>\n",
       "      <td>female</td>\n",
       "      <td>NaN</td>\n",
       "      <td>0</td>\n",
       "      <td>0</td>\n",
       "      <td>17421</td>\n",
       "      <td>110.8833</td>\n",
       "      <td>NaN</td>\n",
       "      <td>C</td>\n",
       "      <td>True</td>\n",
       "    </tr>\n",
       "    <tr>\n",
       "      <th>Hays, Miss. Margaret Bechstein</th>\n",
       "      <td>311</td>\n",
       "      <td>1</td>\n",
       "      <td>1</td>\n",
       "      <td>female</td>\n",
       "      <td>24.0</td>\n",
       "      <td>0</td>\n",
       "      <td>0</td>\n",
       "      <td>11767</td>\n",
       "      <td>83.1583</td>\n",
       "      <td>C54</td>\n",
       "      <td>C</td>\n",
       "      <td>True</td>\n",
       "    </tr>\n",
       "    <tr>\n",
       "      <th>Spedden, Mrs. Frederic Oakley (Margaretta Corning Stone)</th>\n",
       "      <td>320</td>\n",
       "      <td>1</td>\n",
       "      <td>1</td>\n",
       "      <td>female</td>\n",
       "      <td>40.0</td>\n",
       "      <td>1</td>\n",
       "      <td>1</td>\n",
       "      <td>16966</td>\n",
       "      <td>134.5000</td>\n",
       "      <td>E34</td>\n",
       "      <td>C</td>\n",
       "      <td>True</td>\n",
       "    </tr>\n",
       "    <tr>\n",
       "      <th>Burns, Miss. Elizabeth Margaret</th>\n",
       "      <td>338</td>\n",
       "      <td>1</td>\n",
       "      <td>1</td>\n",
       "      <td>female</td>\n",
       "      <td>41.0</td>\n",
       "      <td>0</td>\n",
       "      <td>0</td>\n",
       "      <td>16966</td>\n",
       "      <td>134.5000</td>\n",
       "      <td>E40</td>\n",
       "      <td>C</td>\n",
       "      <td>True</td>\n",
       "    </tr>\n",
       "    <tr>\n",
       "      <th>Ford, Miss. Doolina Margaret \"Daisy\"</th>\n",
       "      <td>437</td>\n",
       "      <td>0</td>\n",
       "      <td>3</td>\n",
       "      <td>female</td>\n",
       "      <td>21.0</td>\n",
       "      <td>2</td>\n",
       "      <td>2</td>\n",
       "      <td>W./C. 6608</td>\n",
       "      <td>34.3750</td>\n",
       "      <td>NaN</td>\n",
       "      <td>S</td>\n",
       "      <td>True</td>\n",
       "    </tr>\n",
       "    <tr>\n",
       "      <th>Murphy, Miss. Margaret Jane</th>\n",
       "      <td>613</td>\n",
       "      <td>1</td>\n",
       "      <td>3</td>\n",
       "      <td>female</td>\n",
       "      <td>NaN</td>\n",
       "      <td>1</td>\n",
       "      <td>0</td>\n",
       "      <td>367230</td>\n",
       "      <td>15.5000</td>\n",
       "      <td>NaN</td>\n",
       "      <td>Q</td>\n",
       "      <td>True</td>\n",
       "    </tr>\n",
       "    <tr>\n",
       "      <th>Mannion, Miss. Margareth</th>\n",
       "      <td>728</td>\n",
       "      <td>1</td>\n",
       "      <td>3</td>\n",
       "      <td>female</td>\n",
       "      <td>NaN</td>\n",
       "      <td>0</td>\n",
       "      <td>0</td>\n",
       "      <td>36866</td>\n",
       "      <td>7.7375</td>\n",
       "      <td>NaN</td>\n",
       "      <td>Q</td>\n",
       "      <td>True</td>\n",
       "    </tr>\n",
       "    <tr>\n",
       "      <th>Ford, Mrs. Edward (Margaret Ann Watson)</th>\n",
       "      <td>737</td>\n",
       "      <td>0</td>\n",
       "      <td>3</td>\n",
       "      <td>female</td>\n",
       "      <td>48.0</td>\n",
       "      <td>1</td>\n",
       "      <td>3</td>\n",
       "      <td>W./C. 6608</td>\n",
       "      <td>34.3750</td>\n",
       "      <td>NaN</td>\n",
       "      <td>S</td>\n",
       "      <td>True</td>\n",
       "    </tr>\n",
       "    <tr>\n",
       "      <th>Swift, Mrs. Frederick Joel (Margaret Welles Barron)</th>\n",
       "      <td>863</td>\n",
       "      <td>1</td>\n",
       "      <td>1</td>\n",
       "      <td>female</td>\n",
       "      <td>48.0</td>\n",
       "      <td>0</td>\n",
       "      <td>0</td>\n",
       "      <td>17466</td>\n",
       "      <td>25.9292</td>\n",
       "      <td>D17</td>\n",
       "      <td>S</td>\n",
       "      <td>True</td>\n",
       "    </tr>\n",
       "    <tr>\n",
       "      <th>Rice, Mrs. William (Margaret Norton)</th>\n",
       "      <td>886</td>\n",
       "      <td>0</td>\n",
       "      <td>3</td>\n",
       "      <td>female</td>\n",
       "      <td>39.0</td>\n",
       "      <td>0</td>\n",
       "      <td>5</td>\n",
       "      <td>382652</td>\n",
       "      <td>29.1250</td>\n",
       "      <td>NaN</td>\n",
       "      <td>Q</td>\n",
       "      <td>True</td>\n",
       "    </tr>\n",
       "    <tr>\n",
       "      <th>Graham, Miss. Margaret Edith</th>\n",
       "      <td>888</td>\n",
       "      <td>1</td>\n",
       "      <td>1</td>\n",
       "      <td>female</td>\n",
       "      <td>19.0</td>\n",
       "      <td>0</td>\n",
       "      <td>0</td>\n",
       "      <td>112053</td>\n",
       "      <td>30.0000</td>\n",
       "      <td>B42</td>\n",
       "      <td>S</td>\n",
       "      <td>True</td>\n",
       "    </tr>\n",
       "  </tbody>\n",
       "</table>\n",
       "</div>"
      ],
      "text/plain": [
       "                                                    PassengerId  Survived  \\\n",
       "Name                                                                        \n",
       "Devaney, Miss. Margaret Delia                                45         1   \n",
       "Brown, Mrs. James Joseph (Margaret Tobin)                   195         1   \n",
       "Madigan, Miss. Margaret \"Maggie\"                            199         1   \n",
       "Fleming, Miss. Margaret                                     307         1   \n",
       "Hays, Miss. Margaret Bechstein                              311         1   \n",
       "Spedden, Mrs. Frederic Oakley (Margaretta Corni...          320         1   \n",
       "Burns, Miss. Elizabeth Margaret                             338         1   \n",
       "Ford, Miss. Doolina Margaret \"Daisy\"                        437         0   \n",
       "Murphy, Miss. Margaret Jane                                 613         1   \n",
       "Mannion, Miss. Margareth                                    728         1   \n",
       "Ford, Mrs. Edward (Margaret Ann Watson)                     737         0   \n",
       "Swift, Mrs. Frederick Joel (Margaret Welles Bar...          863         1   \n",
       "Rice, Mrs. William (Margaret Norton)                        886         0   \n",
       "Graham, Miss. Margaret Edith                                888         1   \n",
       "\n",
       "                                                    Pclass     Sex   Age  \\\n",
       "Name                                                                       \n",
       "Devaney, Miss. Margaret Delia                            3  female  19.0   \n",
       "Brown, Mrs. James Joseph (Margaret Tobin)                1  female  44.0   \n",
       "Madigan, Miss. Margaret \"Maggie\"                         3  female   NaN   \n",
       "Fleming, Miss. Margaret                                  1  female   NaN   \n",
       "Hays, Miss. Margaret Bechstein                           1  female  24.0   \n",
       "Spedden, Mrs. Frederic Oakley (Margaretta Corni...       1  female  40.0   \n",
       "Burns, Miss. Elizabeth Margaret                          1  female  41.0   \n",
       "Ford, Miss. Doolina Margaret \"Daisy\"                     3  female  21.0   \n",
       "Murphy, Miss. Margaret Jane                              3  female   NaN   \n",
       "Mannion, Miss. Margareth                                 3  female   NaN   \n",
       "Ford, Mrs. Edward (Margaret Ann Watson)                  3  female  48.0   \n",
       "Swift, Mrs. Frederick Joel (Margaret Welles Bar...       1  female  48.0   \n",
       "Rice, Mrs. William (Margaret Norton)                     3  female  39.0   \n",
       "Graham, Miss. Margaret Edith                             1  female  19.0   \n",
       "\n",
       "                                                    SibSp  Parch      Ticket  \\\n",
       "Name                                                                           \n",
       "Devaney, Miss. Margaret Delia                           0      0      330958   \n",
       "Brown, Mrs. James Joseph (Margaret Tobin)               0      0    PC 17610   \n",
       "Madigan, Miss. Margaret \"Maggie\"                        0      0      370370   \n",
       "Fleming, Miss. Margaret                                 0      0       17421   \n",
       "Hays, Miss. Margaret Bechstein                          0      0       11767   \n",
       "Spedden, Mrs. Frederic Oakley (Margaretta Corni...      1      1       16966   \n",
       "Burns, Miss. Elizabeth Margaret                         0      0       16966   \n",
       "Ford, Miss. Doolina Margaret \"Daisy\"                    2      2  W./C. 6608   \n",
       "Murphy, Miss. Margaret Jane                             1      0      367230   \n",
       "Mannion, Miss. Margareth                                0      0       36866   \n",
       "Ford, Mrs. Edward (Margaret Ann Watson)                 1      3  W./C. 6608   \n",
       "Swift, Mrs. Frederick Joel (Margaret Welles Bar...      0      0       17466   \n",
       "Rice, Mrs. William (Margaret Norton)                    0      5      382652   \n",
       "Graham, Miss. Margaret Edith                            0      0      112053   \n",
       "\n",
       "                                                        Fare Cabin Embarked  \\\n",
       "Name                                                                          \n",
       "Devaney, Miss. Margaret Delia                         7.8792   NaN        Q   \n",
       "Brown, Mrs. James Joseph (Margaret Tobin)            27.7208    B4        C   \n",
       "Madigan, Miss. Margaret \"Maggie\"                      7.7500   NaN        Q   \n",
       "Fleming, Miss. Margaret                             110.8833   NaN        C   \n",
       "Hays, Miss. Margaret Bechstein                       83.1583   C54        C   \n",
       "Spedden, Mrs. Frederic Oakley (Margaretta Corni...  134.5000   E34        C   \n",
       "Burns, Miss. Elizabeth Margaret                     134.5000   E40        C   \n",
       "Ford, Miss. Doolina Margaret \"Daisy\"                 34.3750   NaN        S   \n",
       "Murphy, Miss. Margaret Jane                          15.5000   NaN        Q   \n",
       "Mannion, Miss. Margareth                              7.7375   NaN        Q   \n",
       "Ford, Mrs. Edward (Margaret Ann Watson)              34.3750   NaN        S   \n",
       "Swift, Mrs. Frederick Joel (Margaret Welles Bar...   25.9292   D17        S   \n",
       "Rice, Mrs. William (Margaret Norton)                 29.1250   NaN        Q   \n",
       "Graham, Miss. Margaret Edith                         30.0000   B42        S   \n",
       "\n",
       "                                                    is_passenger  \n",
       "Name                                                              \n",
       "Devaney, Miss. Margaret Delia                               True  \n",
       "Brown, Mrs. James Joseph (Margaret Tobin)                   True  \n",
       "Madigan, Miss. Margaret \"Maggie\"                            True  \n",
       "Fleming, Miss. Margaret                                     True  \n",
       "Hays, Miss. Margaret Bechstein                              True  \n",
       "Spedden, Mrs. Frederic Oakley (Margaretta Corni...          True  \n",
       "Burns, Miss. Elizabeth Margaret                             True  \n",
       "Ford, Miss. Doolina Margaret \"Daisy\"                        True  \n",
       "Murphy, Miss. Margaret Jane                                 True  \n",
       "Mannion, Miss. Margareth                                    True  \n",
       "Ford, Mrs. Edward (Margaret Ann Watson)                     True  \n",
       "Swift, Mrs. Frederick Joel (Margaret Welles Bar...          True  \n",
       "Rice, Mrs. William (Margaret Norton)                        True  \n",
       "Graham, Miss. Margaret Edith                                True  "
      ]
     },
     "execution_count": 94,
     "metadata": {},
     "output_type": "execute_result"
    }
   ],
   "source": [
    "# \".str\" creates a string object from a column\n",
    "titanic[titanic.index.str.contains(\"Margaret\")]"
   ]
  },
  {
   "cell_type": "markdown",
   "metadata": {},
   "source": [
    "What if your dataset has missing data? Pandas uses the value `numpy.nan` to represent missing data, and by default does not include it in any computations. We can find missing values, drop them from our dataframe, replace them with any value we like or do forward or backward filling:"
   ]
  },
  {
   "cell_type": "code",
   "execution_count": 99,
   "metadata": {},
   "outputs": [],
   "source": [
    "# Uncomment one line at a time and re-run the cell to check the output/effect\n",
    "\n",
    "#titanic.isna()                    # returns boolean mask of NaN values\n",
    "#titanic.dropna()                  # drop missing values\n",
    "#titanic.dropna(how=\"any\")         # or how=\"all\"\n",
    "#titanic.dropna(subset=[\"Cabin\"])  # only drop NaNs from one column\n",
    "#titanic.fillna(0)                 # replace NaNs with zero\n",
    "#titanic.fillna(method='ffill')    # forward-fill NaNs"
   ]
  },
  {
   "cell_type": "markdown",
   "metadata": {},
   "source": [
    "## Challenge: \n",
    "Compute the mean age of the first 10 passengers by slicing and the pandas.DataFrame.mean() method"
   ]
  },
  {
   "cell_type": "code",
   "execution_count": 100,
   "metadata": {},
   "outputs": [
    {
     "data": {
      "text/plain": [
       "29.88888888888889"
      ]
     },
     "execution_count": 100,
     "metadata": {},
     "output_type": "execute_result"
    }
   ],
   "source": [
    "titanic[\"Age\"][0:10].mean()"
   ]
  },
  {
   "cell_type": "markdown",
   "metadata": {},
   "source": [
    "# Time series superpowers\n",
    "Pandas is very good at handling time series data. To show just a few examples, we will use a new dataset of Nobel prize laureates available through an API of the Nobel prize organisation at https://api.nobelprize.org/v1/laureate.csv .\n",
    "\n",
    "Unfortunately this API does not allow 'non-browser requests', so `pandas.read_csv` will not work directly on it. Instead, we will use a copy that is available publicly on Github:"
   ]
  },
  {
   "cell_type": "code",
   "execution_count": 101,
   "metadata": {},
   "outputs": [
    {
     "data": {
      "text/html": [
       "<div>\n",
       "<style scoped>\n",
       "    .dataframe tbody tr th:only-of-type {\n",
       "        vertical-align: middle;\n",
       "    }\n",
       "\n",
       "    .dataframe tbody tr th {\n",
       "        vertical-align: top;\n",
       "    }\n",
       "\n",
       "    .dataframe thead th {\n",
       "        text-align: right;\n",
       "    }\n",
       "</style>\n",
       "<table border=\"1\" class=\"dataframe\">\n",
       "  <thead>\n",
       "    <tr style=\"text-align: right;\">\n",
       "      <th></th>\n",
       "      <th>id</th>\n",
       "      <th>firstname</th>\n",
       "      <th>surname</th>\n",
       "      <th>born</th>\n",
       "      <th>died</th>\n",
       "      <th>bornCountry</th>\n",
       "      <th>bornCountryCode</th>\n",
       "      <th>bornCity</th>\n",
       "      <th>diedCountry</th>\n",
       "      <th>diedCountryCode</th>\n",
       "      <th>diedCity</th>\n",
       "      <th>gender</th>\n",
       "      <th>year</th>\n",
       "      <th>category</th>\n",
       "      <th>overallMotivation</th>\n",
       "      <th>share</th>\n",
       "      <th>motivation</th>\n",
       "      <th>name</th>\n",
       "      <th>city</th>\n",
       "      <th>country</th>\n",
       "    </tr>\n",
       "  </thead>\n",
       "  <tbody>\n",
       "    <tr>\n",
       "      <th>0</th>\n",
       "      <td>1</td>\n",
       "      <td>Wilhelm Conrad</td>\n",
       "      <td>Röntgen</td>\n",
       "      <td>1845-03-27</td>\n",
       "      <td>1923-02-10</td>\n",
       "      <td>Prussia (now Germany)</td>\n",
       "      <td>DE</td>\n",
       "      <td>Lennep (now Remscheid)</td>\n",
       "      <td>Germany</td>\n",
       "      <td>DE</td>\n",
       "      <td>Munich</td>\n",
       "      <td>male</td>\n",
       "      <td>1901</td>\n",
       "      <td>physics</td>\n",
       "      <td>NaN</td>\n",
       "      <td>1</td>\n",
       "      <td>\"in recognition of the extraordinary services ...</td>\n",
       "      <td>Munich University</td>\n",
       "      <td>Munich</td>\n",
       "      <td>Germany</td>\n",
       "    </tr>\n",
       "    <tr>\n",
       "      <th>1</th>\n",
       "      <td>2</td>\n",
       "      <td>Hendrik A.</td>\n",
       "      <td>Lorentz</td>\n",
       "      <td>1853-07-18</td>\n",
       "      <td>1928-02-04</td>\n",
       "      <td>the Netherlands</td>\n",
       "      <td>NL</td>\n",
       "      <td>Arnhem</td>\n",
       "      <td>the Netherlands</td>\n",
       "      <td>NL</td>\n",
       "      <td>NaN</td>\n",
       "      <td>male</td>\n",
       "      <td>1902</td>\n",
       "      <td>physics</td>\n",
       "      <td>NaN</td>\n",
       "      <td>2</td>\n",
       "      <td>\"in recognition of the extraordinary service t...</td>\n",
       "      <td>Leiden University</td>\n",
       "      <td>Leiden</td>\n",
       "      <td>the Netherlands</td>\n",
       "    </tr>\n",
       "    <tr>\n",
       "      <th>2</th>\n",
       "      <td>3</td>\n",
       "      <td>Pieter</td>\n",
       "      <td>Zeeman</td>\n",
       "      <td>1865-05-25</td>\n",
       "      <td>1943-10-09</td>\n",
       "      <td>the Netherlands</td>\n",
       "      <td>NL</td>\n",
       "      <td>Zonnemaire</td>\n",
       "      <td>the Netherlands</td>\n",
       "      <td>NL</td>\n",
       "      <td>Amsterdam</td>\n",
       "      <td>male</td>\n",
       "      <td>1902</td>\n",
       "      <td>physics</td>\n",
       "      <td>NaN</td>\n",
       "      <td>2</td>\n",
       "      <td>\"in recognition of the extraordinary service t...</td>\n",
       "      <td>Amsterdam University</td>\n",
       "      <td>Amsterdam</td>\n",
       "      <td>the Netherlands</td>\n",
       "    </tr>\n",
       "    <tr>\n",
       "      <th>3</th>\n",
       "      <td>4</td>\n",
       "      <td>Henri</td>\n",
       "      <td>Becquerel</td>\n",
       "      <td>1852-12-15</td>\n",
       "      <td>1908-08-25</td>\n",
       "      <td>France</td>\n",
       "      <td>FR</td>\n",
       "      <td>Paris</td>\n",
       "      <td>France</td>\n",
       "      <td>FR</td>\n",
       "      <td>NaN</td>\n",
       "      <td>male</td>\n",
       "      <td>1903</td>\n",
       "      <td>physics</td>\n",
       "      <td>NaN</td>\n",
       "      <td>2</td>\n",
       "      <td>\"in recognition of the extraordinary services ...</td>\n",
       "      <td>École Polytechnique</td>\n",
       "      <td>Paris</td>\n",
       "      <td>France</td>\n",
       "    </tr>\n",
       "    <tr>\n",
       "      <th>4</th>\n",
       "      <td>5</td>\n",
       "      <td>Pierre</td>\n",
       "      <td>Curie</td>\n",
       "      <td>1859-05-15</td>\n",
       "      <td>1906-04-19</td>\n",
       "      <td>France</td>\n",
       "      <td>FR</td>\n",
       "      <td>Paris</td>\n",
       "      <td>France</td>\n",
       "      <td>FR</td>\n",
       "      <td>Paris</td>\n",
       "      <td>male</td>\n",
       "      <td>1903</td>\n",
       "      <td>physics</td>\n",
       "      <td>NaN</td>\n",
       "      <td>4</td>\n",
       "      <td>\"in recognition of the extraordinary services ...</td>\n",
       "      <td>École municipale de physique et de chimie indu...</td>\n",
       "      <td>Paris</td>\n",
       "      <td>France</td>\n",
       "    </tr>\n",
       "  </tbody>\n",
       "</table>\n",
       "</div>"
      ],
      "text/plain": [
       "   id       firstname    surname        born        died  \\\n",
       "0   1  Wilhelm Conrad    Röntgen  1845-03-27  1923-02-10   \n",
       "1   2      Hendrik A.    Lorentz  1853-07-18  1928-02-04   \n",
       "2   3          Pieter     Zeeman  1865-05-25  1943-10-09   \n",
       "3   4           Henri  Becquerel  1852-12-15  1908-08-25   \n",
       "4   5          Pierre      Curie  1859-05-15  1906-04-19   \n",
       "\n",
       "             bornCountry bornCountryCode                bornCity  \\\n",
       "0  Prussia (now Germany)              DE  Lennep (now Remscheid)   \n",
       "1        the Netherlands              NL                  Arnhem   \n",
       "2        the Netherlands              NL              Zonnemaire   \n",
       "3                 France              FR                   Paris   \n",
       "4                 France              FR                   Paris   \n",
       "\n",
       "       diedCountry diedCountryCode   diedCity gender  year category  \\\n",
       "0          Germany              DE     Munich   male  1901  physics   \n",
       "1  the Netherlands              NL        NaN   male  1902  physics   \n",
       "2  the Netherlands              NL  Amsterdam   male  1902  physics   \n",
       "3           France              FR        NaN   male  1903  physics   \n",
       "4           France              FR      Paris   male  1903  physics   \n",
       "\n",
       "  overallMotivation  share                                         motivation  \\\n",
       "0               NaN      1  \"in recognition of the extraordinary services ...   \n",
       "1               NaN      2  \"in recognition of the extraordinary service t...   \n",
       "2               NaN      2  \"in recognition of the extraordinary service t...   \n",
       "3               NaN      2  \"in recognition of the extraordinary services ...   \n",
       "4               NaN      4  \"in recognition of the extraordinary services ...   \n",
       "\n",
       "                                                name       city  \\\n",
       "0                                  Munich University     Munich   \n",
       "1                                  Leiden University     Leiden   \n",
       "2                               Amsterdam University  Amsterdam   \n",
       "3                                École Polytechnique      Paris   \n",
       "4  École municipale de physique et de chimie indu...      Paris   \n",
       "\n",
       "           country  \n",
       "0          Germany  \n",
       "1  the Netherlands  \n",
       "2  the Netherlands  \n",
       "3           France  \n",
       "4           France  "
      ]
     },
     "execution_count": 101,
     "metadata": {},
     "output_type": "execute_result"
    }
   ],
   "source": [
    "nobel = pd.read_csv(\"https://github.com/AaltoSciComp/python-for-scicomp/raw/master/resources/data/laureate.csv\")\n",
    "nobel.head()"
   ]
  },
  {
   "cell_type": "markdown",
   "metadata": {},
   "source": [
    "This dataset has three columns for time, “born”/”died” and “year”. These are represented as strings and integers, respectively, and need to be converted to datetime format. `pandas.to_datetime()` makes this easy:"
   ]
  },
  {
   "cell_type": "code",
   "execution_count": 102,
   "metadata": {},
   "outputs": [],
   "source": [
    "# the errors='coerce' argument is needed because the dataset is a bit messy\n",
    "nobel[\"born\"] = pd.to_datetime(nobel[\"born\"], errors ='coerce')\n",
    "nobel[\"died\"] = pd.to_datetime(nobel[\"died\"], errors ='coerce')\n",
    "nobel[\"year\"] = pd.to_datetime(nobel[\"year\"], format=\"%Y\")"
   ]
  },
  {
   "cell_type": "markdown",
   "metadata": {},
   "source": [
    "Pandas knows a lot about dates (using `.dt` accessor):"
   ]
  },
  {
   "cell_type": "code",
   "execution_count": 103,
   "metadata": {},
   "outputs": [
    {
     "name": "stdout",
     "output_type": "stream",
     "text": [
      "0      27.0\n",
      "1      18.0\n",
      "2      25.0\n",
      "3      15.0\n",
      "4      15.0\n",
      "       ... \n",
      "995     NaN\n",
      "996     NaN\n",
      "997    29.0\n",
      "998    21.0\n",
      "999     NaN\n",
      "Name: born, Length: 1000, dtype: float64\n",
      "0      1845.0\n",
      "1      1853.0\n",
      "2      1865.0\n",
      "3      1852.0\n",
      "4      1859.0\n",
      "        ...  \n",
      "995       NaN\n",
      "996       NaN\n",
      "997    1959.0\n",
      "998    1972.0\n",
      "999       NaN\n",
      "Name: born, Length: 1000, dtype: float64\n",
      "0      3.0\n",
      "1      0.0\n",
      "2      3.0\n",
      "3      2.0\n",
      "4      6.0\n",
      "      ... \n",
      "995    NaN\n",
      "996    NaN\n",
      "997    1.0\n",
      "998    4.0\n",
      "999    NaN\n",
      "Name: born, Length: 1000, dtype: float64\n"
     ]
    }
   ],
   "source": [
    "print(nobel[\"born\"].dt.day)\n",
    "print(nobel[\"born\"].dt.year)\n",
    "print(nobel[\"born\"].dt.weekday)"
   ]
  },
  {
   "cell_type": "markdown",
   "metadata": {},
   "source": [
    "We can add a column containing the (approximate) lifespan in years rounded to one decimal:"
   ]
  },
  {
   "cell_type": "code",
   "execution_count": 104,
   "metadata": {},
   "outputs": [],
   "source": [
    "nobel[\"lifespan\"] = round((nobel[\"died\"] - nobel[\"born\"]).dt.days / 365, 1)"
   ]
  },
  {
   "cell_type": "markdown",
   "metadata": {},
   "source": [
    "and then plot a histogram of lifespans:"
   ]
  },
  {
   "cell_type": "code",
   "execution_count": 107,
   "metadata": {},
   "outputs": [
    {
     "data": {
      "text/plain": [
       "array([[<Axes: title={'center': 'lifespan'}>]], dtype=object)"
      ]
     },
     "execution_count": 107,
     "metadata": {},
     "output_type": "execute_result"
    },
    {
     "data": {
      "image/png": "[encoded data removed]",
      "text/plain": [
       "<Figure size 800x1000 with 1 Axes>"
      ]
     },
     "metadata": {},
     "output_type": "display_data"
    }
   ],
   "source": [
    "nobel.hist(column='lifespan', bins=25, figsize=(8,10), rwidth=0.9)"
   ]
  },
  {
   "cell_type": "markdown",
   "metadata": {},
   "source": [
    "Finally, let’s see one more example of an informative plot (boxplot()) produced by a single line of code:"
   ]
  },
  {
   "cell_type": "code",
   "execution_count": 47,
   "metadata": {},
   "outputs": [
    {
     "data": {
      "text/plain": [
       "<Axes: title={'center': 'lifespan'}, xlabel='category'>"
      ]
     },
     "execution_count": 47,
     "metadata": {},
     "output_type": "execute_result"
    },
    {
     "data": {
      "image/png": "[encoded data removed]",
      "text/plain": [
       "<Figure size 640x480 with 1 Axes>"
      ]
     },
     "metadata": {},
     "output_type": "display_data"
    }
   ],
   "source": [
    "nobel.boxplot(column=\"lifespan\", by=\"category\")"
   ]
  },
  {
   "cell_type": "markdown",
   "metadata": {},
   "source": [
    "Selecting a single row and column label returns a scalar:"
   ]
  },
  {
   "cell_type": "markdown",
   "metadata": {},
   "source": [
    "# Challenge 1:\n",
    "+ What country (of birth) has received the largest number of Nobel prizes, and how many? How many countries are represented in the dataset? Hint: use the describe method on the bornCountryCode column.\n",
    "\n",
    "+ Create a histogram of the age when the laureates received their Nobel prizes. Hint: follow the above steps we performed for the lifespan.\n",
    "\n",
    "+ List all the Nobel laureates from your country."
   ]
  },
  {
   "cell_type": "code",
   "execution_count": 108,
   "metadata": {},
   "outputs": [
    {
     "data": {
      "text/plain": [
       "count     969\n",
       "unique     82\n",
       "top        US\n",
       "freq      292\n",
       "Name: bornCountryCode, dtype: object"
      ]
     },
     "execution_count": 108,
     "metadata": {},
     "output_type": "execute_result"
    }
   ],
   "source": [
    "nobel['bornCountryCode'].describe()"
   ]
  },
  {
   "cell_type": "code",
   "execution_count": 111,
   "metadata": {},
   "outputs": [
    {
     "name": "stdout",
     "output_type": "stream",
     "text": [
      "Index(['id', 'firstname', 'surname', 'born', 'died', 'bornCountry',\n",
      "       'bornCountryCode', 'bornCity', 'diedCountry', 'diedCountryCode',\n",
      "       'diedCity', 'gender', 'year', 'category', 'overallMotivation', 'share',\n",
      "       'motivation', 'name', 'city', 'country', 'lifespan', 'ageAtAward'],\n",
      "      dtype='object')\n"
     ]
    },
    {
     "data": {
      "text/plain": [
       "array([[<Axes: title={'center': 'ageAtAward'}>]], dtype=object)"
      ]
     },
     "execution_count": 111,
     "metadata": {},
     "output_type": "execute_result"
    },
    {
     "data": {
      "image/png": "[encoded data removed]",
      "text/plain": [
       "<Figure size 800x1000 with 1 Axes>"
      ]
     },
     "metadata": {},
     "output_type": "display_data"
    }
   ],
   "source": [
    "print(nobel.columns)\n",
    "nobel['ageAtAward'] = round((nobel[\"year\"] - nobel[\"born\"]).dt.days / 365, 1)\n",
    "nobel.hist(column='ageAtAward', bins=25, figsize=(8,10), rwidth=0.9)"
   ]
  },
  {
   "cell_type": "code",
   "execution_count": 119,
   "metadata": {},
   "outputs": [
    {
     "name": "stdout",
     "output_type": "stream",
     "text": [
      "27     Robert A. Millikan\n",
      "32      Arthur H. Compton\n",
      "42       Carl D. Anderson\n",
      "43       Clinton Davisson\n",
      "46        Ernest Lawrence\n",
      "              ...        \n",
      "987       Douglas Diamond\n",
      "988         Philip Dybvig\n",
      "990         Drew Weissman\n",
      "995            Louis Brus\n",
      "999        Claudia Goldin\n",
      "Name: fullname, Length: 292, dtype: object\n"
     ]
    }
   ],
   "source": [
    "myCountry = 'US'\n",
    "nobel['fullname'] = nobel['firstname']+\" \"+nobel['surname']\n",
    "print(nobel['fullname'][nobel['bornCountryCode'] == myCountry])\n",
    "#names = nobel['fullname'][nobel['bornCountryCode'] == myCountry].to_list()\n",
    "#print(names)"
   ]
  },
  {
   "cell_type": "markdown",
   "metadata": {},
   "source": [
    "# Challenge 2:\n",
    "+ Define an array of 4 countries of your choice and extract only laureates who were born in these countries (you need to look at the data and find how countries are written)\n",
    "  \n",
    "+ Use `groupby()` to compute how many nobel prizes each country received in each category (by category, we mean nobel category: chemistry, econ, literature, medicine, physics, etc.) The `size()` method tells us how many rows, hence nobel prizes, are in each group"
   ]
  },
  {
   "cell_type": "code",
   "execution_count": 120,
   "metadata": {},
   "outputs": [
    {
     "name": "stdout",
     "output_type": "stream",
     "text": [
      "['DE' 'NL' 'FR' 'PL' 'GB' 'SK' 'LU' 'IT' 'RU' 'SE' 'AU' 'CH' 'DK' 'US'\n",
      " 'IN' 'AT' 'JP' 'IE' 'CN' 'AZ' 'HU' 'NO' 'PK' 'CA' 'DZ' 'NZ' 'LV' 'SI'\n",
      " 'HR' 'FI' 'CZ' 'EG' 'BA' 'UA' 'LT' 'TW' 'KR' 'MX' 'ES' 'BE' 'ID' 'AR'\n",
      " 'PT' 'ZA' 'BR' 'RO' 'VE' nan 'ZW' 'VN' 'BY' 'MK' 'CR' 'MM' 'GT' 'IL' 'TL'\n",
      " 'CL' 'IS' 'GP' 'TR' 'GR' 'BG' 'CO' 'MG' 'NG' 'LC' 'TT' 'GH' 'IR' 'KE'\n",
      " 'BD' 'PE' 'CY' 'LR' 'YE' 'MA' 'CD' 'IQ' 'ET' 'LB' 'PH' 'TN']\n"
     ]
    },
    {
     "data": {
      "text/plain": [
       "bornCountryCode  category  \n",
       "FR               chemistry     11\n",
       "                 economics      4\n",
       "                 literature    12\n",
       "                 medicine      12\n",
       "                 peace         10\n",
       "                 physics       12\n",
       "GB               chemistry     28\n",
       "                 economics      8\n",
       "                 literature     7\n",
       "                 medicine      28\n",
       "                 peace         11\n",
       "                 physics       24\n",
       "IT               chemistry      1\n",
       "                 economics      1\n",
       "                 literature     6\n",
       "                 medicine       5\n",
       "                 peace          1\n",
       "                 physics        6\n",
       "US               chemistry     58\n",
       "                 economics     54\n",
       "                 literature    10\n",
       "                 medicine      80\n",
       "                 peace         19\n",
       "                 physics       71\n",
       "dtype: int64"
      ]
     },
     "execution_count": 120,
     "metadata": {},
     "output_type": "execute_result"
    }
   ],
   "source": [
    "# List the country code that laureates were born in\n",
    "print(nobel['bornCountryCode'].unique())\n",
    "\n",
    "# Define a list of 4 country codes\n",
    "countries = np.array(['GB', 'FR', 'US', 'IT'])\n",
    "\n",
    "# Extract the subset of the dataframe for which the bornCountryCode is in that list\n",
    "subset = nobel.loc[nobel['bornCountryCode'].isin(countries)]\n",
    "#print(subset['bornCountryCode'])\n",
    "# Count up the number of prizes by category for each country\n",
    "subset.groupby(['bornCountryCode', 'category']).size()"
   ]
  },
  {
   "cell_type": "code",
   "execution_count": null,
   "metadata": {},
   "outputs": [],
   "source": []
  }
 ],
 "metadata": {
  "kernelspec": {
   "display_name": "Python 3 (ipykernel)",
   "language": "python",
   "name": "python3"
  },
  "language_info": {
   "codemirror_mode": {
    "name": "ipython",
    "version": 3
   },
   "file_extension": ".py",
   "mimetype": "text/x-python",
   "name": "python",
   "nbconvert_exporter": "python",
   "pygments_lexer": "ipython3",
   "version": "3.8.1"
  }
 },
 "nbformat": 4,
 "nbformat_minor": 4
}

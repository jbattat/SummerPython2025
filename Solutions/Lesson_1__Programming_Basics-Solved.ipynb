{
 "cells": [
  {
   "cell_type": "markdown",
   "metadata": {},
   "source": [
    "# Introduction to Programming in Python"
   ]
  },
  {
   "cell_type": "markdown",
   "metadata": {},
   "source": [
    "Welcome to a Jupyter notebook!  It lets you write computer code in the python programming language, and run it in blocks\n",
    "\n"
   ]
  },
  {
   "cell_type": "code",
   "execution_count": 1,
   "metadata": {},
   "outputs": [],
   "source": [
    "# Lines that start with a hash sign like these are comments.  The python interpretter\n",
    "# ignores them.  You can write as many as you want.  Comments are usually used to \n",
    "# remind you, and explain to others, what your code does. Good programmers place \n",
    "# comments throughout their code to document it."
   ]
  },
  {
   "cell_type": "code",
   "execution_count": 2,
   "metadata": {},
   "outputs": [
    {
     "name": "stdout",
     "output_type": "stream",
     "text": [
      "The first line of code!\n"
     ]
    }
   ],
   "source": [
    "# This is the second block of code in the notebook. The first block did not actually do\n",
    "# anything - it was all comments.  This block does something, though. You can run it with \n",
    "# shift+enter.  \n",
    "\n",
    "print(\"The first line of code!\")"
   ]
  },
  {
   "cell_type": "code",
   "execution_count": 3,
   "metadata": {},
   "outputs": [
    {
     "name": "stdout",
     "output_type": "stream",
     "text": [
      "the second line of code\n"
     ]
    }
   ],
   "source": [
    "# In this block, make the program output \"the second line of code!\"\n",
    "message = \"the second line of code\"\n",
    "print(message)"
   ]
  },
  {
   "cell_type": "code",
   "execution_count": 4,
   "metadata": {},
   "outputs": [
    {
     "name": "stdout",
     "output_type": "stream",
     "text": [
      "4\n",
      "102\n"
     ]
    }
   ],
   "source": [
    "# OK.  We can also to simple math.  Like adding two numbers\n",
    "\n",
    "print(1+3)\n",
    "print(3*34)"
   ]
  },
  {
   "cell_type": "code",
   "execution_count": 5,
   "metadata": {},
   "outputs": [
    {
     "name": "stdout",
     "output_type": "stream",
     "text": [
      "113.89999999999999\n"
     ]
    }
   ],
   "source": [
    "# Those were whole numbers (integers, or ints)  We can do non-whole ones (floats) too:\n",
    "\n",
    "print(3.4*33.5)"
   ]
  },
  {
   "cell_type": "code",
   "execution_count": 6,
   "metadata": {},
   "outputs": [
    {
     "name": "stdout",
     "output_type": "stream",
     "text": [
      "2.5\n"
     ]
    }
   ],
   "source": [
    "print(5/2)"
   ]
  },
  {
   "cell_type": "markdown",
   "metadata": {},
   "source": [
    "Great. Now we're programming. The next thing we need to know about are variables. A variable is a container that stores something.  In almost all programming langauges, variables can store numbers, strings, or complicated programming objects. To fill, or \"assign\" a variable, use the \"=\" sign.\n",
    "\n"
   ]
  },
  {
   "cell_type": "code",
   "execution_count": 7,
   "metadata": {},
   "outputs": [
    {
     "name": "stdout",
     "output_type": "stream",
     "text": [
      "6\n"
     ]
    }
   ],
   "source": [
    "a=5\n",
    "print(a+1)"
   ]
  },
  {
   "cell_type": "code",
   "execution_count": 23,
   "metadata": {},
   "outputs": [
    {
     "name": "stdout",
     "output_type": "stream",
     "text": [
      "11\n"
     ]
    }
   ],
   "source": [
    "# In this block, define two variables b and c containing numbers 5 and 6, and print their sum\n",
    "b = 5\n",
    "c = 6\n",
    "# or b, c = 5, 6\n",
    "print(b+c)"
   ]
  },
  {
   "cell_type": "code",
   "execution_count": 24,
   "metadata": {},
   "outputs": [
    {
     "name": "stdout",
     "output_type": "stream",
     "text": [
      "0.8333333333333334\n"
     ]
    }
   ],
   "source": [
    "# Print their ratio.\n",
    "print(b/c)"
   ]
  },
  {
   "cell_type": "code",
   "execution_count": 25,
   "metadata": {},
   "outputs": [
    {
     "name": "stdout",
     "output_type": "stream",
     "text": [
      "These variables contain strings\n"
     ]
    }
   ],
   "source": [
    "d = \"These variables contain\"\n",
    "e = \" strings\"\n",
    "# what happens when you \"add\" strings?\n",
    "print(d+e)"
   ]
  },
  {
   "cell_type": "markdown",
   "metadata": {},
   "source": [
    "Python is special among programming languages because it is \"typless\".  You don't have to tell is what a variable will contain, you just assign it.   For example, a line of text, or a \"string\", can be put into a variable with quotes \"\""
   ]
  },
  {
   "cell_type": "code",
   "execution_count": 26,
   "metadata": {},
   "outputs": [
    {
     "name": "stdout",
     "output_type": "stream",
     "text": [
      "The variable (a) contains 5 and the next number is 6\n"
     ]
    }
   ],
   "source": [
    "# You can print several things on one line:\n",
    "print(\"The variable (a) contains\", a, \"and the next number is\", a+1)"
   ]
  },
  {
   "cell_type": "code",
   "execution_count": 27,
   "metadata": {},
   "outputs": [
    {
     "name": "stdout",
     "output_type": "stream",
     "text": [
      "The variable (a) contains 5 and the next number is 6.\n"
     ]
    }
   ],
   "source": [
    "# A fancier way to do this is to use \"f-strings\" (\"formatted string literals\")\n",
    "# Enclose the variable name in curly brackets, and put an \"f\" before the string:\n",
    "print(f\"The variable (a) contains {a} and the next number is {a+1}.\")"
   ]
  },
  {
   "cell_type": "code",
   "execution_count": 28,
   "metadata": {},
   "outputs": [
    {
     "name": "stdout",
     "output_type": "stream",
     "text": [
      "b, c, b+c = 5, 6, 11\n"
     ]
    }
   ],
   "source": [
    "# Write a line of code like the one above to tell us b, c and their sum\n",
    "print(f\"b, c, b+c = {b}, {c}, {b+c}\")"
   ]
  },
  {
   "cell_type": "code",
   "execution_count": 29,
   "metadata": {},
   "outputs": [
    {
     "name": "stdout",
     "output_type": "stream",
     "text": [
      "b, c, b+c = 5, 6, 30\n"
     ]
    }
   ],
   "source": [
    "# Write a line of code like the one above to tell us b, c and their product\n",
    "print(f\"b, c, b+c = {b}, {c}, {b*c}\")"
   ]
  },
  {
   "cell_type": "code",
   "execution_count": 30,
   "metadata": {},
   "outputs": [
    {
     "name": "stdout",
     "output_type": "stream",
     "text": [
      "hyp = 7.810249675906654\n"
     ]
    }
   ],
   "source": [
    "# Consider a right angle triangle with side lengths b and c.  Write code to\n",
    "# tell us the length of the hypotenuse\n",
    "# note, powers can be evaluated with pow(b,c).  For example, square root of a is pow(a,0.5)\n",
    "# You can also use the double-star operator \"**\":  b**c, so the square root of a is a**0.5\n",
    "hyp = ( b**2 + c**2 )**0.5\n",
    "print(f\"hyp = {hyp}\")"
   ]
  },
  {
   "cell_type": "code",
   "execution_count": 19,
   "metadata": {},
   "outputs": [],
   "source": [
    "# Change the value of b by executing this line, and re-run the above 3 blocks\n",
    "b=11.3453643"
   ]
  },
  {
   "cell_type": "code",
   "execution_count": 31,
   "metadata": {},
   "outputs": [
    {
     "name": "stdout",
     "output_type": "stream",
     "text": [
      "speed = 10.295630140987\n"
     ]
    }
   ],
   "source": [
    "# A particle has the following velocity components:\n",
    "#  vx is 3 ms^-1\n",
    "#  vy is 4 ms^-1\n",
    "#  vz is 9 ms^-1\n",
    "# Store these in variables. Write code to evaluate the total speed and print it to screen.\n",
    "vx, vy, vz = 3, 4, 9\n",
    "speed = (vx**2 + vy**2 + vz**2)**0.5\n",
    "print(f\"speed = {speed}\")"
   ]
  },
  {
   "cell_type": "markdown",
   "metadata": {},
   "source": [
    "# Flow control (if)"
   ]
  },
  {
   "cell_type": "markdown",
   "metadata": {},
   "source": [
    "An important component of computer programs is the if statement.  If statements work like this.  Notice the indentation - the first indented block is what gets run, if the test statement evaluares true. The second is what runs if it evaluates false:"
   ]
  },
  {
   "cell_type": "code",
   "execution_count": 32,
   "metadata": {},
   "outputs": [
    {
     "name": "stdout",
     "output_type": "stream",
     "text": [
      "a is smaller than b!\n"
     ]
    }
   ],
   "source": [
    "a=1\n",
    "b=5\n",
    "\n",
    "if (a>b): \n",
    "    print(\"a is bigger than b!\")\n",
    "else:\n",
    "    print(\"a is smaller than b!\")"
   ]
  },
  {
   "cell_type": "markdown",
   "metadata": {},
   "source": [
    "In python, program flow is all controlled by indentation:\n",
    "\n"
   ]
  },
  {
   "cell_type": "code",
   "execution_count": 33,
   "metadata": {},
   "outputs": [
    {
     "name": "stdout",
     "output_type": "stream",
     "text": [
      "test 1...\n",
      "yes it is!\n"
     ]
    }
   ],
   "source": [
    "print(\"test 1...\")\n",
    "\n",
    "if (a<b): \n",
    "    print(\"yes it is!\")\n",
    "if (a>b): \n",
    "    print(\"no it isn't!\")"
   ]
  },
  {
   "cell_type": "code",
   "execution_count": 34,
   "metadata": {},
   "outputs": [
    {
     "name": "stdout",
     "output_type": "stream",
     "text": [
      "test 2...\n",
      "yes it is!\n"
     ]
    }
   ],
   "source": [
    "print(\"test 2...\")\n",
    "\n",
    "if (a<b): \n",
    "    print(\"yes it is!\")\n",
    "    if(a>b): \n",
    "        print(\"no it isn't!\")"
   ]
  },
  {
   "cell_type": "code",
   "execution_count": 35,
   "metadata": {},
   "outputs": [
    {
     "ename": "IndentationError",
     "evalue": "expected an indented block after 'if' statement on line 3 (2712749773.py, line 4)",
     "output_type": "error",
     "traceback": [
      "  \u001b[36mCell\u001b[39m\u001b[36m \u001b[39m\u001b[32mIn[35]\u001b[39m\u001b[32m, line 4\u001b[39m\n\u001b[31m    \u001b[39m\u001b[31mprint(\"yes it is!\")\u001b[39m\n    ^\n\u001b[31mIndentationError\u001b[39m\u001b[31m:\u001b[39m expected an indented block after 'if' statement on line 3\n"
     ]
    }
   ],
   "source": [
    "print(\"test 3...\")\n",
    "\n",
    "if(a<b): \n",
    "print(\"yes it is!\")\n",
    "if(a>b): \n",
    "print(\"no it isn't!\")"
   ]
  },
  {
   "cell_type": "code",
   "execution_count": 44,
   "metadata": {},
   "outputs": [
    {
     "name": "stdout",
     "output_type": "stream",
     "text": [
      "a, b = 1, 5\n"
     ]
    }
   ],
   "source": [
    "# Write code to test if a*b is bigger than 6 and write the answer to screen.\n",
    "a, b = 1, 5\n",
    "if ( (a*b)>6 ): \n",
    "    print(f\"a*b={a*b} (>{a*b})\")\n",
    "else:\n",
    "    print(f\"a, b = {a}, {b}\")"
   ]
  },
  {
   "cell_type": "code",
   "execution_count": null,
   "metadata": {},
   "outputs": [],
   "source": [
    "# change the values of a and b to get the oposite answer, and re-run the code above.\n",
    "# Solution: see previous cell and just change the values of a and b"
   ]
  },
  {
   "cell_type": "code",
   "execution_count": 45,
   "metadata": {},
   "outputs": [
    {
     "name": "stdout",
     "output_type": "stream",
     "text": [
      "Moving forward...\n"
     ]
    }
   ],
   "source": [
    "# Write code to test whether the particle with velocity defined above is going\n",
    "# forwards or backwards in z, and write the answer to the screen.\n",
    "if vz>0:\n",
    "    # moving forward\n",
    "    message = \"Moving forward...\"\n",
    "else:\n",
    "    message = \"Moving backward...\"\n",
    "\n",
    "print(message)"
   ]
  },
  {
   "cell_type": "markdown",
   "metadata": {},
   "source": [
    "We used > to test if a was bigger than b.\n",
    "Other comparative statements look like this:\n",
    "\n",
    " == (Equal) \n",
    " \n",
    " != (Not Equal) \n",
    " \n",
    " < (Less than) \n",
    " \n",
    " \\> (Greater than)      \n",
    " \n",
    " <= (Less than or equal)\n",
    " \n",
    " \\>= (Greater than or equal)\n",
    " "
   ]
  },
  {
   "cell_type": "code",
   "execution_count": 46,
   "metadata": {},
   "outputs": [
    {
     "name": "stdout",
     "output_type": "stream",
     "text": [
      "1==3 False\n",
      "1==1 True\n",
      "1>1 False\n",
      "1>=1 True\n",
      "1>3 False\n",
      "1!=1 False\n",
      "1!=3 True\n",
      "-----\n",
      "It is False that 1!=1\n",
      "It is True that 1!=3\n"
     ]
    }
   ],
   "source": [
    "print(\"1==3\", (1 == 3))\n",
    "print(\"1==1\", (1 == 1))\n",
    "print(\"1>1\", (1 > 1))\n",
    "print(\"1>=1\", (1 >= 1))\n",
    "print(\"1>3\", (1 > 1))\n",
    "print(\"1!=1\", (1 != 1))\n",
    "print(\"1!=3\", (1!= 3))\n",
    "\n",
    "print(\"-----\")\n",
    "\n",
    "if 1 != 1:\n",
    "    print(\"It is True that 1!=1\")\n",
    "else:\n",
    "    print(\"It is False that 1!=1\")\n",
    "    \n",
    "if 1 != 3:\n",
    "    print(\"It is True that 1!=3\")\n",
    "else:\n",
    "    print(\"It is False that 1!=3\" )"
   ]
  },
  {
   "cell_type": "markdown",
   "metadata": {},
   "source": [
    "# Lists"
   ]
  },
  {
   "cell_type": "code",
   "execution_count": 47,
   "metadata": {},
   "outputs": [
    {
     "name": "stdout",
     "output_type": "stream",
     "text": [
      "[10, 20, 30, 40]\n"
     ]
    }
   ],
   "source": [
    "# As well as simple numbers, variables can also store lists of numbers.  A list\n",
    "#  in python looks like this:\n",
    "\n",
    "a=[10, 20, 30, 40]\n",
    "print(a)"
   ]
  },
  {
   "cell_type": "code",
   "execution_count": 48,
   "metadata": {},
   "outputs": [
    {
     "name": "stdout",
     "output_type": "stream",
     "text": [
      "10\n",
      "40\n"
     ]
    }
   ],
   "source": [
    "# You can access elements of arrays like this.  The first element is always index 0.\n",
    "\n",
    "print(a[0])\n",
    "print(a[3])"
   ]
  },
  {
   "cell_type": "code",
   "execution_count": 49,
   "metadata": {},
   "outputs": [
    {
     "name": "stdout",
     "output_type": "stream",
     "text": [
      "[10, 20, 30]\n",
      "[20]\n"
     ]
    }
   ],
   "source": [
    "# You can also \"slice\" out parts of a list, like this:\n",
    "\n",
    "print(a[0:3])\n",
    "print(a[1:2])"
   ]
  },
  {
   "cell_type": "code",
   "execution_count": 50,
   "metadata": {},
   "outputs": [
    {
     "name": "stdout",
     "output_type": "stream",
     "text": [
      "[20, 30, 40]\n",
      "[10, 20]\n",
      "[10, 20]\n"
     ]
    }
   ],
   "source": [
    "# Index -1 means take the last element (-2 means econd last, etc).  Leaving it blank before or \n",
    "# after the : means slice to the end.\n",
    "\n",
    "print(a[1:])\n",
    "print(a[0:-2])\n",
    "print(a[:2])"
   ]
  },
  {
   "cell_type": "code",
   "execution_count": 56,
   "metadata": {},
   "outputs": [
    {
     "name": "stdout",
     "output_type": "stream",
     "text": [
      "['cat', 'parrot', 'T-Rex', 'liger', 'a llama']\n",
      "['cat', 'parrot', 'T-Rex', 'liger', 'a llama', 'The Dalai Lama', 'sheep']\n",
      "['a llama', 'The Dalai Lama', 'sheep']\n"
     ]
    }
   ],
   "source": [
    "# Starting from the list below, slice out:\n",
    "#  a) the second through sixth elements (inclusive)\n",
    "#  b) all entries from the second to the end\n",
    "#  c) the third last to the last element\n",
    "\n",
    "the_list = [\"dog\",\"cat\",\"parrot\",\"T-Rex\",\"liger\",\"a llama\",\"The Dalai Lama\",\"sheep\"]\n",
    "\n",
    "# a)\n",
    "print(the_list[1:6])\n",
    "\n",
    "# b) \n",
    "print(the_list[1:])\n",
    "\n",
    "# c)\n",
    "print(the_list[-3:])"
   ]
  },
  {
   "cell_type": "code",
   "execution_count": 60,
   "metadata": {},
   "outputs": [
    {
     "name": "stdout",
     "output_type": "stream",
     "text": [
      "Array a holds 4 entries.\n"
     ]
    }
   ],
   "source": [
    "# The length of a list can be obtained with the len() keyword:\n",
    "\n",
    "print(f\"Array a holds {len(a)} entries.\")"
   ]
  },
  {
   "cell_type": "code",
   "execution_count": 61,
   "metadata": {},
   "outputs": [
    {
     "name": "stdout",
     "output_type": "stream",
     "text": [
      "5\n"
     ]
    }
   ],
   "source": [
    "# You don't always have to define lists by hand.  The range command makes a list like this:\n",
    "\n",
    "b=range(0,10)\n",
    "print(b[5])"
   ]
  },
  {
   "cell_type": "code",
   "execution_count": 62,
   "metadata": {},
   "outputs": [
    {
     "name": "stdout",
     "output_type": "stream",
     "text": [
      "104\n"
     ]
    }
   ],
   "source": [
    "c=range(99, 109)\n",
    "print(c[5])"
   ]
  },
  {
   "cell_type": "code",
   "execution_count": 63,
   "metadata": {},
   "outputs": [
    {
     "name": "stdout",
     "output_type": "stream",
     "text": [
      "[5]\n",
      "[5, 7]\n"
     ]
    }
   ],
   "source": [
    "# you can append elements to the end of a list\n",
    "a=[]\n",
    "a.append(5)\n",
    "print(a)\n",
    "a.append(7)\n",
    "print(a)"
   ]
  },
  {
   "cell_type": "markdown",
   "metadata": {},
   "source": [
    "# Loops (for)"
   ]
  },
  {
   "cell_type": "code",
   "execution_count": 64,
   "metadata": {},
   "outputs": [
    {
     "name": "stdout",
     "output_type": "stream",
     "text": [
      "[0, 1, 2, 3, 4, 5, 6, 7, 8, 9]\n",
      "[0, 1, 4, 9, 16, 25, 36, 49, 64, 81]\n"
     ]
    }
   ],
   "source": [
    "# Arrays can also be used to make loops using the for command.  It works like this:\n",
    "vals = range(10)\n",
    "squares = []\n",
    "for i in vals:\n",
    "    squares.append(i**2)\n",
    "print(list(vals))\n",
    "print(squares)"
   ]
  },
  {
   "cell_type": "code",
   "execution_count": 65,
   "metadata": {},
   "outputs": [
    {
     "name": "stdout",
     "output_type": "stream",
     "text": [
      "[0, 1, 2, 3, 4, 5, 6, 7, 8, 9]\n",
      "[0, 1, 4, 9, 16, 25, 36, 49, 64, 81]\n"
     ]
    }
   ],
   "source": [
    "# A fancier / more \"pythonic\" way of doing the above is to use \"list comprehension\"\n",
    "vals = range(10)\n",
    "squares = [i**2 for i in vals]\n",
    "print(list(vals))\n",
    "print(squares)"
   ]
  },
  {
   "cell_type": "code",
   "execution_count": 66,
   "metadata": {},
   "outputs": [],
   "source": [
    "# In programming, there are usually several ways to do the same thing. Consider this list:\n",
    "animals=[\"cat\",\"dog\",\"bear\",\"duck\",\"unicorn\"]"
   ]
  },
  {
   "cell_type": "code",
   "execution_count": 67,
   "metadata": {},
   "outputs": [
    {
     "name": "stdout",
     "output_type": "stream",
     "text": [
      "Method 1:\n",
      "cat and dog and bear and duck and unicorn and the rest\n"
     ]
    }
   ],
   "source": [
    "# These pieces of code serve the same function, for example\n",
    "print(\"Method 1:\")\n",
    "String = \"\"\n",
    "for a in animals:\n",
    "    String += a + \" and \"\n",
    "print (String+\"the rest\")"
   ]
  },
  {
   "cell_type": "code",
   "execution_count": 68,
   "metadata": {},
   "outputs": [
    {
     "name": "stdout",
     "output_type": "stream",
     "text": [
      "Method 2:\n",
      "cat and dog and bear and duck and unicorn and the rest\n"
     ]
    }
   ],
   "source": [
    "print(\"Method 2:\")\n",
    "String = \"\"\n",
    "for i in range(len(animals)):\n",
    "    String += animals[i]\n",
    "    String += \" and \"\n",
    "String+=\"the rest\"\n",
    "print(String)"
   ]
  },
  {
   "cell_type": "code",
   "execution_count": 69,
   "metadata": {},
   "outputs": [
    {
     "name": "stdout",
     "output_type": "stream",
     "text": [
      "Method 3:\n",
      "cat and dog and bear and duck and unicorn and the rest\n"
     ]
    }
   ],
   "source": [
    "print(\"Method 3:\")\n",
    "String = \" and \".join(animals)\n",
    "String += \" and the rest\"\n",
    "print(String)"
   ]
  },
  {
   "cell_type": "markdown",
   "metadata": {},
   "source": [
    "There are a lot more python commands than the ones we just taught you.  There are also a lot of packages that extend pythons functionality for complicated math, and plotting. We will look at some of these later.  But with these basic ingredients : math, printing, lists, loops, flow control, we will be able to write useful programs for our physics work.  We'll finish up with an exercise to practice looping and and math:"
   ]
  },
  {
   "cell_type": "code",
   "execution_count": 75,
   "metadata": {},
   "outputs": [
    {
     "name": "stdout",
     "output_type": "stream",
     "text": [
      "Fibonacci Numbers:\n",
      "[1, 1, 2, 3, 5, 8, 13, 21, 34, 55, 89, 144, 233, 377, 610, 987, 1597, 2584, 4181, 6765, 10946, 17711, 28657, 46368, 75025, 121393, 196418, 317811, 514229, 832040, 1346269, 2178309, 3524578, 5702887, 9227465, 14930352, 24157817, 39088169, 63245986, 102334155, 165580141, 267914296, 433494437, 701408733, 1134903170, 1836311903, 2971215073, 4807526976, 7778742049, 12586269025, 20365011074, 32951280099, 53316291173, 86267571272, 139583862445, 225851433717, 365435296162, 591286729879, 956722026041, 1548008755920, 2504730781961, 4052739537881, 6557470319842, 10610209857723, 17167680177565, 27777890035288, 44945570212853, 72723460248141, 117669030460994, 190392490709135, 308061521170129, 498454011879264, 806515533049393, 1304969544928657, 2111485077978050, 3416454622906707, 5527939700884757, 8944394323791464, 14472334024676221, 23416728348467685, 37889062373143906, 61305790721611591, 99194853094755497, 160500643816367088, 259695496911122585, 420196140727489673, 679891637638612258, 1100087778366101931, 1779979416004714189, 2880067194370816120, 4660046610375530309, 7540113804746346429, 12200160415121876738, 19740274219868223167, 31940434634990099905, 51680708854858323072, 83621143489848422977, 135301852344706746049, 218922995834555169026, 354224848179261915075]\n",
      "Fibonacci Ratios:\n",
      "[1.0, 2.0, 1.5, 1.6666666666666667, 1.6, 1.625, 1.6153846153846154, 1.619047619047619, 1.6176470588235294, 1.6181818181818182, 1.6179775280898876, 1.6180555555555556, 1.6180257510729614, 1.6180371352785146, 1.618032786885246, 1.618034447821682, 1.6180338134001253, 1.618034055727554, 1.6180339631667064, 1.6180339985218033, 1.618033985017358, 1.6180339901755971, 1.618033988205325, 1.618033988957902, 1.6180339886704431, 1.6180339887802426, 1.618033988738303, 1.6180339887543225, 1.6180339887482036, 1.6180339887505408, 1.6180339887496482, 1.618033988749989, 1.618033988749859, 1.6180339887499087, 1.6180339887498896, 1.618033988749897, 1.618033988749894, 1.6180339887498951, 1.6180339887498947, 1.618033988749895, 1.618033988749895, 1.618033988749895, 1.618033988749895, 1.618033988749895, 1.618033988749895, 1.618033988749895, 1.618033988749895, 1.618033988749895, 1.618033988749895, 1.618033988749895, 1.618033988749895, 1.618033988749895, 1.618033988749895, 1.618033988749895, 1.618033988749895, 1.618033988749895, 1.618033988749895, 1.618033988749895, 1.618033988749895, 1.618033988749895, 1.618033988749895, 1.618033988749895, 1.618033988749895, 1.618033988749895, 1.618033988749895, 1.618033988749895, 1.618033988749895, 1.618033988749895, 1.618033988749895, 1.618033988749895, 1.618033988749895, 1.618033988749895, 1.618033988749895, 1.618033988749895, 1.618033988749895, 1.618033988749895, 1.618033988749895, 1.618033988749895, 1.618033988749895, 1.618033988749895, 1.618033988749895, 1.618033988749895, 1.618033988749895, 1.618033988749895, 1.618033988749895, 1.618033988749895, 1.618033988749895, 1.618033988749895, 1.618033988749895, 1.618033988749895, 1.618033988749895, 1.618033988749895, 1.618033988749895, 1.618033988749895, 1.618033988749895, 1.618033988749895, 1.618033988749895, 1.618033988749895, 1.618033988749895]\n"
     ]
    }
   ],
   "source": [
    "# Exercise: Write code to evaluate the first 100 fibonacci numbers.\n",
    "# Print the numbers, and the ratio of the nth and (n+1)th number to the screen\n",
    "# Save the 99th ratio to a variable called \"golden_ratio\"\n",
    "\n",
    "fib = [1, 1] # enter the first two by hand\n",
    "for ii in range(98):\n",
    "    fib.append(fib[-1]+fib[-2])\n",
    "\n",
    "print(\"Fibonacci Numbers:\")\n",
    "print(fib)\n",
    "\n",
    "ratios = []\n",
    "for ii in range(len(fib) - 1):\n",
    "    ratios.append(fib[ii+1]/fib[ii])\n",
    "\n",
    "print(\"Fibonacci Ratios:\")\n",
    "print(ratios)\n",
    "\n",
    "# add your code here\n",
    "golden_ratio=1.618033 #replace me!"
   ]
  },
  {
   "cell_type": "code",
   "execution_count": 76,
   "metadata": {},
   "outputs": [],
   "source": [
    "# Don't worry about what this block does, just run it for now. We'll talk about\n",
    "# it later\n",
    "import numpy as np\n",
    "import matplotlib.pyplot as plt\n",
    "%matplotlib inline"
   ]
  },
  {
   "cell_type": "code",
   "execution_count": 77,
   "metadata": {},
   "outputs": [
    {
     "data": {
      "image/png": "[encoded data removed]",
      "text/plain": [
       "<Figure size 500x500 with 1 Axes>"
      ]
     },
     "metadata": {},
     "output_type": "display_data"
    }
   ],
   "source": [
    "# Now we'll draw the golden spiral using the golden ratio you calculated.\n",
    "\n",
    "# Make a list of theta values corresponding to 3 rotations\n",
    "theta_values = np.arange(0, 6*np.pi, 0.1)\n",
    "\n",
    "# A golden spiral has a radius that grows as it rotates,\n",
    "#  with a rate that depends on the golden ratio:\n",
    "spiral_growth_factor = np.log(golden_ratio)/(np.pi/2.)\n",
    "r_values = np.exp(spiral_growth_factor*theta_values)\n",
    "\n",
    "# Get the x and y values\n",
    "x_values = r_values * np.sin(theta_values)\n",
    "y_values = r_values * np.cos(theta_values)\n",
    "\n",
    "# make a plot\n",
    "plt.figure(figsize=(5,5))\n",
    "plt.plot(x_values,y_values,'.')\n",
    "plt.xlim(-400,400)\n",
    "plt.ylim(-400,400)\n",
    "plt.xlabel(\"X\")\n",
    "plt.ylabel(\"Y\")\n",
    "plt.title(\"The Golden Spiral\");"
   ]
  },
  {
   "cell_type": "markdown",
   "metadata": {},
   "source": [
    "This is a very interesting spiral indeed.\n",
    "\n",
    "http://www.goldennumber.net/wp-content/uploads/2013/08/nautilus-shell-with-golden-ratio-spiral-overlay.gif\n",
    "\n",
    "https://i.kinja-img.com/gawker-media/image/upload/s--rJC4FAZh--/c_fit,fl_progressive,q_80,w_636/18f8hbfn5ag1yjpg.jpg"
   ]
  },
  {
   "cell_type": "code",
   "execution_count": null,
   "metadata": {},
   "outputs": [],
   "source": []
  }
 ],
 "metadata": {
  "kernelspec": {
   "display_name": "Python 3 (ipykernel)",
   "language": "python",
   "name": "python3"
  },
  "language_info": {
   "codemirror_mode": {
    "name": "ipython",
    "version": 3
   },
   "file_extension": ".py",
   "mimetype": "text/x-python",
   "name": "python",
   "nbconvert_exporter": "python",
   "pygments_lexer": "ipython3",
   "version": "3.12.8"
  }
 },
 "nbformat": 4,
 "nbformat_minor": 4
}

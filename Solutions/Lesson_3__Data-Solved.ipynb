{
 "cells": [
  {
   "cell_type": "code",
   "execution_count": 1,
   "metadata": {},
   "outputs": [],
   "source": [
    "#Imports etc\n",
    "import matplotlib.pyplot as plt \n",
    "import numpy\n",
    "%matplotlib inline"
   ]
  },
  {
   "cell_type": "markdown",
   "metadata": {},
   "source": [
    "Our goal today will be to study real LHC data. We processed it a bit for you, before you arrived.  We have picked out only events with at least two reconstructed leptons (electron or muon or antielectron or antimuon).  In every event we stored into a file the reconstructed energy and momentum of the most energetic two."
   ]
  },
  {
   "cell_type": "code",
   "execution_count": 2,
   "metadata": {},
   "outputs": [],
   "source": [
    "# First we have to open the file:\n",
    "Events=numpy.loadtxt(\"Events.txt\")"
   ]
  },
  {
   "cell_type": "markdown",
   "metadata": {},
   "source": [
    "This file is a list of numbers reconstructed from each event by complicated software of the ATLAS detector.\n",
    "\n",
    "Actually, with the full ATLAS event description, every event is described by around 100,000 numbers.  We pulled out only the 14 most useful numbers for this exercise.  In each event particle 1 is the reconstructed lepton with the highest pT, and particle 2 has the second highest.  The numbers we stored are:\n",
    "\n",
    "0) event number\n",
    "\n",
    "1) run number\n",
    "\n",
    "2) particle 1 P_x\n",
    "\n",
    "3) particle 1 P_y\n",
    "\n",
    "4) particle 1 P_z\n",
    "\n",
    "5) particle 1 E\n",
    "\n",
    "6) particle 1 charge\n",
    "\n",
    "7) particle 1 ID\n",
    "\n",
    "8) particle 2 P_x\n",
    "\n",
    "9) particle 2 P_y\n",
    "\n",
    "10) particle 2 P_z\n",
    "\n",
    "11) particle 2 E\n",
    "\n",
    "12) particle 2 charge\n",
    "\n",
    "13) particle 2 ID\n",
    "\n"
   ]
  },
  {
   "cell_type": "markdown",
   "metadata": {},
   "source": [
    "The events are just stored in a big numpy array.  Lets see how many events there are:"
   ]
  },
  {
   "cell_type": "code",
   "execution_count": 3,
   "metadata": {},
   "outputs": [
    {
     "name": "stdout",
     "output_type": "stream",
     "text": [
      "16186\n"
     ]
    }
   ],
   "source": [
    "print(len(Events))"
   ]
  },
  {
   "cell_type": "markdown",
   "metadata": {},
   "source": [
    "And lets look at the list of numbers in the first one:"
   ]
  },
  {
   "cell_type": "code",
   "execution_count": 4,
   "metadata": {},
   "outputs": [
    {
     "name": "stdout",
     "output_type": "stream",
     "text": [
      "[ 3.5612214e+07  2.1307900e+05  8.7624900e+01  6.8183800e+01\n",
      "  3.7705800e+02  3.9306400e+02 -1.0000000e+00  1.3000000e+01\n",
      "  1.0298200e+01  3.1087100e+00  3.0197100e+01  3.2056100e+01\n",
      "  1.0000000e+00 -1.3000000e+01]\n"
     ]
    }
   ],
   "source": [
    "print (Events[0])"
   ]
  },
  {
   "cell_type": "code",
   "execution_count": 6,
   "metadata": {},
   "outputs": [
    {
     "name": "stdout",
     "output_type": "stream",
     "text": [
      "The energy is 256.321 GeV\n"
     ]
    }
   ],
   "source": [
    "# Exercise: print out the energy of the highest pT lepton in the \n",
    "# 9th event (remember the first event has an array index of zero)\n",
    "\n",
    "print(\"The energy is\", Events[8,5], \"GeV\")"
   ]
  },
  {
   "cell_type": "code",
   "execution_count": 7,
   "metadata": {},
   "outputs": [
    {
     "name": "stdout",
     "output_type": "stream",
     "text": [
      "The charge is 1.0\n"
     ]
    }
   ],
   "source": [
    "# Exercise : Look up the charge of the second highest pT lepton \n",
    "# in the 1000th event\n",
    "\n",
    "print(\"The charge is\", Events[999,6])"
   ]
  },
  {
   "cell_type": "code",
   "execution_count": 9,
   "metadata": {},
   "outputs": [
    {
     "data": {
      "text/plain": [
       "<matplotlib.legend.Legend at 0x13826bd90>"
      ]
     },
     "execution_count": 9,
     "metadata": {},
     "output_type": "execute_result"
    },
    {
     "data": {
      "image/png": "[encoded data removed]",
      "text/plain": [
       "<Figure size 500x500 with 1 Axes>"
      ]
     },
     "metadata": {},
     "output_type": "display_data"
    }
   ],
   "source": [
    "# Exercise : Histogram the energy of the highest pT leptons\n",
    "#            Histogram the energy of the next highest pT leptons\n",
    "#            use 100 bins between 0 and 1000 GeV\n",
    "#            show both histograms on the same plot\n",
    "#            label axes and add a legend\n",
    "plt.figure(figsize=(5,5))\n",
    "plt.hist(Events[:,5],label=\"Highest pT\",histtype='step',bins=numpy.arange(0,1000,10))\n",
    "plt.hist(Events[:,11],label=\"Second pT\",histtype='step',bins=numpy.arange(0,1000,10))\n",
    "plt.xlabel(\"Energy/GeV\",fontsize=14)\n",
    "plt.ylabel(\"Number\",fontsize=14)\n",
    "plt.legend(loc=1)"
   ]
  },
  {
   "cell_type": "code",
   "execution_count": 10,
   "metadata": {},
   "outputs": [
    {
     "name": "stdout",
     "output_type": "stream",
     "text": [
      "++ 474\n",
      "+- 7579\n",
      "-+ 7737\n",
      "-- 396\n"
     ]
    }
   ],
   "source": [
    "# Exercise : How many events have first and second leptons with +ve charge?\n",
    "#            How many with both -ve?\n",
    "#            How many +-?  How many -+?\n",
    "#            Which are the most common categories?\n",
    "\n",
    "PlusPlus=0\n",
    "PlusMinus=0\n",
    "MinusPlus=0\n",
    "MinusMinus=0\n",
    "for E in Events:\n",
    "    if E[6]==1 and E[12]==1:\n",
    "        PlusPlus=PlusPlus+1\n",
    "    if E[6]==-1 and E[12]==1:\n",
    "        MinusPlus=MinusPlus+1\n",
    "    if E[6]==1 and E[12]==-1:\n",
    "        PlusMinus=PlusMinus+1\n",
    "    if E[6]==-1 and E[12]==-1:\n",
    "        MinusMinus=MinusMinus+1\n",
    "print(\"++\",PlusPlus)\n",
    "print(\"+-\",PlusMinus)\n",
    "print(\"-+\",MinusPlus)\n",
    "print(\"--\",MinusMinus)\n"
   ]
  },
  {
   "cell_type": "markdown",
   "metadata": {},
   "source": [
    "In particle physics we use special number codes for different particle types.  The list of codes is maintained by the Particle Data Group, so we call them PDG ID's.  Here is the full list of PDG IDs:\n",
    "\n",
    "http://pdg.lbl.gov/2007/reviews/montecarlorpp.pdf\n",
    "\n",
    "Look up the ID for electrons and muons, then try the next exercise. Note that particles have +ve PDG and antiparticles have negative ones.  You can turn them all positive using the abs() command.\n",
    "\n"
   ]
  },
  {
   "cell_type": "code",
   "execution_count": 12,
   "metadata": {},
   "outputs": [
    {
     "name": "stdout",
     "output_type": "stream",
     "text": [
      "Number of ee events 1366\n",
      "Number of mumu events 11165\n",
      "Number of mue events 3655\n"
     ]
    }
   ],
   "source": [
    "# Exercise : Separate the events into three sets\n",
    "#             1) Events with two muons or antimuons\n",
    "#             2) Events with two electrons or positrons\n",
    "#             3) Events with one muon/antimuon and one electron/positron\n",
    "#            Put each set into a new list\n",
    "#            How many are in each category?\n",
    "\n",
    "MuonMuon=[]\n",
    "MuonElec=[]\n",
    "ElecElec=[]\n",
    "for E in Events:\n",
    "    if abs(E[7])==11 and abs(E[13])==11:\n",
    "        ElecElec.append(E)\n",
    "    if abs(E[7])==13 and abs(E[13])==13:\n",
    "        MuonMuon.append(E)\n",
    "    if (abs(E[7])==13 and abs(E[13])==11) or (abs(E[7])==11 and abs(E[13])==13):\n",
    "            MuonElec.append(E)\n",
    "print(\"Number of ee events\", len(ElecElec))\n",
    "print(\"Number of mumu events\", len(MuonMuon))\n",
    "print(\"Number of mue events\", len(MuonElec))"
   ]
  },
  {
   "cell_type": "markdown",
   "metadata": {
    "collapsed": true,
    "jupyter": {
     "outputs_hidden": true
    }
   },
   "source": [
    "In python, it is possible to save the array easily to a text file. For example, the line below re-saves the full events array to a text file called EventsNew.txt"
   ]
  },
  {
   "cell_type": "code",
   "execution_count": 13,
   "metadata": {},
   "outputs": [],
   "source": [
    "numpy.savetxt(\"EventsNew.txt\",Events)"
   ]
  },
  {
   "cell_type": "code",
   "execution_count": 14,
   "metadata": {},
   "outputs": [],
   "source": [
    "# Exercise : Save to three text files, the contents of your separated\n",
    "#            sets of particles.  We will use these tomorrow to search for \n",
    "#            new particles.\n",
    "\n",
    "numpy.savetxt(\"ee.txt\",ElecElec)\n",
    "numpy.savetxt(\"mumu.txt\",MuonMuon)\n",
    "numpy.savetxt(\"emu.txt\",MuonElec)"
   ]
  },
  {
   "cell_type": "code",
   "execution_count": 17,
   "metadata": {},
   "outputs": [],
   "source": [
    "# Open exercise : Explore the LHC data! Make plots of various\n",
    "#                  quantities and look for interesting effects.\n",
    "#\n",
    "#            Ideas:\n",
    "#               Do events with two muons or two electrons have different\n",
    "#                 properties to events with one of each?\n",
    "#\n",
    "#               What types of events have mostly same-charge particles in?\n",
    "#\n",
    "#               Do the energies of the same-sign events look similar\n",
    "#                 to the energies of the different-sign events?"
   ]
  },
  {
   "cell_type": "code",
   "execution_count": null,
   "metadata": {},
   "outputs": [],
   "source": []
  }
 ],
 "metadata": {
  "kernelspec": {
   "display_name": "Python 3 (ipykernel)",
   "language": "python",
   "name": "python3"
  },
  "language_info": {
   "codemirror_mode": {
    "name": "ipython",
    "version": 3
   },
   "file_extension": ".py",
   "mimetype": "text/x-python",
   "name": "python",
   "nbconvert_exporter": "python",
   "pygments_lexer": "ipython3",
   "version": "3.8.1"
  }
 },
 "nbformat": 4,
 "nbformat_minor": 4
}

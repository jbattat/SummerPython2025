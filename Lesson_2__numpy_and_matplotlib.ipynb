{
 "cells": [
  {
   "cell_type": "markdown",
   "metadata": {},
   "source": [
    "Credit: This session is based heavily on work by Kyle Jero at UWMadison\n",
    "http://icecube.wisc.edu/~kjero/Bootcamp/2015/Notebooks/Python_Introduction.html"
   ]
  },
  {
   "cell_type": "markdown",
   "metadata": {},
   "source": [
    "If we want to use libraries and modules not defined within the built-in \n",
    "functionality of python we have to import them. There are a number of ways to do this.  For these lessons, we'll do it like this:"
   ]
  },
  {
   "cell_type": "code",
   "execution_count": null,
   "metadata": {},
   "outputs": [],
   "source": [
    "import numpy as np\n",
    "import scipy\n",
    "import matplotlib.pyplot as plt\n",
    "%matplotlib inline"
   ]
  },
  {
   "cell_type": "markdown",
   "metadata": {},
   "source": [
    "... which imports the module numpy and the module scipy, and creates a reference to that modules in the current namespace. Or in other words, after you’ve run this statement, you can use numpy.name and scipy.name to refer to things defined in module numpy and scipy respectively."
   ]
  },
  {
   "cell_type": "markdown",
   "metadata": {},
   "source": [
    "# Numpy"
   ]
  },
  {
   "cell_type": "markdown",
   "metadata": {},
   "source": [
    "The NumPy (Numeric Python) package provides basic routines for manipulating large arrays and matrices of numeric data.  The first thing we need to know about numpy is that it contains all the standard mathematical functions:"
   ]
  },
  {
   "cell_type": "code",
   "execution_count": null,
   "metadata": {},
   "outputs": [],
   "source": [
    "a = 0.75\n",
    "print(np.exp(a), np.sin(a), np.sqrt(a), np.cos(a), np.arctan(a))"
   ]
  },
  {
   "cell_type": "markdown",
   "metadata": {},
   "source": [
    "The second thing to know about numpy is the NumPy array type. Numpy arrays are similar to lists in Python, except that every element of an array must be of the same type, typically a numeric type like float or int. We came across floats and ints inadvertantly in the last lectures exercise.  A float, like 0.3884 or 5.0 can be a fractional number.  An integer like 5 must be a whole number.  Either can be positive or negative.\n",
    "\n",
    "Arrays make operations with large amounts of numeric data very fast and are generally much more efficient than lists. An array can be created from a list by using the array function. You can use the second argument to specify what type of data is in the list or leave it out entirely for numpy to decided what kind of data it is."
   ]
  },
  {
   "cell_type": "code",
   "execution_count": null,
   "metadata": {},
   "outputs": [],
   "source": [
    "a = np.array([1, 4, 5, 8], dtype=np.float64) \n",
    "print(a)\n",
    "print(type(a))\n",
    "print(a.dtype)\n",
    "print(a[3])"
   ]
  },
  {
   "cell_type": "markdown",
   "metadata": {},
   "source": [
    "Arrays can be multidimensional. Unlike lists, different axes are accessed using commas inside bracket notation. Here is an example with a two-dimensional array (aka, a matrix with rows and columns)"
   ]
  },
  {
   "cell_type": "code",
   "execution_count": null,
   "metadata": {},
   "outputs": [],
   "source": [
    "a = np.array([[1, 2, 3, 6], [4, 5, 6, 9]], float) \n",
    "print(a)\n",
    "print(a[0,0])\n",
    "print(a[0,1])"
   ]
  },
  {
   "cell_type": "markdown",
   "metadata": {},
   "source": [
    "We can ask for the shape of an array to find out how many rows and columns it has:"
   ]
  },
  {
   "cell_type": "code",
   "execution_count": null,
   "metadata": {},
   "outputs": [],
   "source": [
    "a.shape"
   ]
  },
  {
   "cell_type": "markdown",
   "metadata": {},
   "source": [
    "We can also use slicing just like we did for lists, in 1D or in 2D:"
   ]
  },
  {
   "cell_type": "code",
   "execution_count": null,
   "metadata": {},
   "outputs": [],
   "source": [
    "print(a[1,:])\n",
    "print(a[:,2])\n",
    "print(a[-1,-2:])"
   ]
  },
  {
   "cell_type": "code",
   "execution_count": null,
   "metadata": {},
   "outputs": [],
   "source": [
    "# Create an array called c with first row 10,11,12, second row 21,22,23, third row 31,32,33\n",
    "# Extract and print:\n",
    "#   a) the first two elements of the middle row.\n",
    "#   b) the last column"
   ]
  },
  {
   "cell_type": "markdown",
   "metadata": {},
   "source": [
    "One of the major advantages of numpy arrays over lists, is that operations\n",
    "can be applied to all elements at once.  This makes many tedious tasks very \n",
    "fast and efficient:"
   ]
  },
  {
   "cell_type": "code",
   "execution_count": null,
   "metadata": {},
   "outputs": [],
   "source": [
    "# Before running this block predict what the output will be!\n",
    "a = np.array([1.0, 2, 3])\n",
    "b = np.array([5.0, 2, 6])\n",
    "c = 2\n",
    "print(a+b)\n",
    "print(a-b)\n",
    "print(a*b)\n",
    "print(a/b)\n",
    "print(a**b)\n",
    "print(a+c)\n",
    "print(a-c)\n",
    "print(a*c)\n",
    "print(a/c)\n",
    "print(a**c)"
   ]
  },
  {
   "cell_type": "markdown",
   "metadata": {},
   "source": [
    "Functions that can be applied to a single element are applied element-wise as well.\n"
   ]
  },
  {
   "cell_type": "code",
   "execution_count": null,
   "metadata": {},
   "outputs": [],
   "source": [
    "print(a)\n",
    "print(np.sqrt(a))\n",
    "print(np.log(a))"
   ]
  },
  {
   "cell_type": "markdown",
   "metadata": {},
   "source": [
    "Many operations that can be applied to an entire array are defined"
   ]
  },
  {
   "cell_type": "code",
   "execution_count": null,
   "metadata": {},
   "outputs": [],
   "source": [
    "print(np.sum(a))\n",
    "print(np.prod(a))\n",
    "print(np.mean(a))\n",
    "print(np.var(a))\n",
    "print(np.argmax(a))"
   ]
  },
  {
   "cell_type": "markdown",
   "metadata": {},
   "source": [
    "To append to an existing array, use the np.append command"
   ]
  },
  {
   "cell_type": "code",
   "execution_count": null,
   "metadata": {},
   "outputs": [],
   "source": [
    "print(\"before\",a)\n",
    "a = np.append(a,1000)\n",
    "print(\"after\", a)"
   ]
  },
  {
   "cell_type": "markdown",
   "metadata": {},
   "source": [
    "Just like with lists, we can make automatically generated arrays"
   ]
  },
  {
   "cell_type": "code",
   "execution_count": null,
   "metadata": {},
   "outputs": [],
   "source": [
    "print(np.arange(0,5))       # like range() for lists\n",
    "print(np.arange(0,5,0.5))   # can specify the step size\n",
    "print(np.linspace(0,2,5))   # this makes a linearly spaced list with 5 elements\n",
    "print(np.ones(10))           # this makes an array with ten 1's"
   ]
  },
  {
   "cell_type": "markdown",
   "metadata": {},
   "source": [
    "An empty array can be defined as follows, and we can append to it later"
   ]
  },
  {
   "cell_type": "code",
   "execution_count": null,
   "metadata": {},
   "outputs": [],
   "source": [
    "a = np.array([])\n",
    "print(a)\n",
    "a = np.append(a,5)\n",
    "a = np.append(a,6)\n",
    "print(a)\n",
    "\n",
    "# But it is much faster to append entries to a list and then convert the list to a numpy array\n",
    "b = []\n",
    "b.append(5.0)\n",
    "b.append(6)\n",
    "b = np.array(b)\n",
    "print(b)"
   ]
  },
  {
   "cell_type": "code",
   "execution_count": null,
   "metadata": {},
   "outputs": [],
   "source": [
    "# Make a numpy array first 30 the fibonacci number ratios\n",
    "# Calculate the average of the last 15 by slicing the array and applying a numpy function\n",
    "# print the avarage and the full list of 30 to screen\n",
    "\n"
   ]
  },
  {
   "cell_type": "code",
   "execution_count": null,
   "metadata": {},
   "outputs": [],
   "source": [
    "# Calculate n*(n-1) for all n between 1 and 100 (inclusive) in 2 lines, using numpy arrays\n",
    "\n"
   ]
  },
  {
   "attachments": {},
   "cell_type": "markdown",
   "metadata": {},
   "source": [
    "#  Matplotlib\n",
    "\n",
    "Matplotlib allows easy plotting of 1D and 2D graphics. Commonly when we access matplotlib we do so through pylab. Pylab provides a procedural interface to the matplotlib object-oriented plotting library.  Important commands are explained below with examples."
   ]
  },
  {
   "cell_type": "code",
   "execution_count": null,
   "metadata": {},
   "outputs": [],
   "source": [
    "# This code draws plots of cos(x) and sin(x).  The plot command takes a list of x\n",
    "# values and y values, and plots them against each other.\n",
    "\n",
    "x=np.linspace(-np.pi, np.pi, num=1000)\n",
    "c=np.cos(x)\n",
    "s=np.sin(x)\n",
    "\n",
    "plt.plot(x,c)\n",
    "plt.plot(x,s)"
   ]
  },
  {
   "cell_type": "code",
   "execution_count": null,
   "metadata": {},
   "outputs": [],
   "source": [
    "# Draw a plot of ln(x) and ln(2x) between x=1 and x=100\n"
   ]
  },
  {
   "cell_type": "markdown",
   "metadata": {},
   "source": [
    "Being good scientists we know however that this is far from a good plot, no axis labels, not line labels. Let's fix that."
   ]
  },
  {
   "cell_type": "code",
   "execution_count": null,
   "metadata": {},
   "outputs": [],
   "source": [
    "x=np.linspace(-np.pi, np.pi, num=1000, endpoint=True)\n",
    "c=np.cos(x)\n",
    "s=np.sin(x)\n",
    "\n",
    "plt.plot(x,c,label=\"Cosine\",color=\"r\",linestyle=\"--\",linewidth=2)\n",
    "plt.plot(x,s,label=\"Sine\",color=\"b\",linestyle=\"-.\",linewidth=2)\n",
    "plt.xlabel(\"X\",fontsize=14)\n",
    "plt.xlim(-np.pi,np.pi)\n",
    "plt.ylabel(\"Y\",fontsize=14)\n",
    "plt.ylim(-1,1)\n",
    "plt.legend(fontsize=14,loc=2)"
   ]
  },
  {
   "cell_type": "code",
   "execution_count": null,
   "metadata": {},
   "outputs": [],
   "source": [
    "# Make your log plot beautiful\n",
    "# Draw a plot of ln(x) and ln(2x) between x=1 and x=100\n"
   ]
  },
  {
   "cell_type": "code",
   "execution_count": null,
   "metadata": {},
   "outputs": [],
   "source": [
    "# You can make a set of plots in the same figure by using the subplots command\n",
    "fig, axs = plt.subplots(figsize=(12,5), nrows=1, ncols=2)\n",
    "x=np.linspace(-np.pi, np.pi, num=1000, endpoint=True)\n",
    "axs[0].plot(x, np.sin(x))\n",
    "axs[0].set_title(\"Left plot title\")\n",
    "axs[0].set_xlabel(\"X\")\n",
    "axs[0].set_ylabel(\"sin(x)\")\n",
    "\n",
    "axs[1].plot(x, np.cos(x))\n",
    "axs[1].set_title(\"Right plot title\")\n",
    "axs[1].set_xlabel(\"X\")\n",
    "axs[1].set_ylabel(\"cos(x)\")"
   ]
  },
  {
   "cell_type": "markdown",
   "metadata": {},
   "source": [
    "The other basic plotting tool that is useful if a histogram. Let's generate some random data and make a histogram, again starting with the defaults and building to something that looks very nice."
   ]
  },
  {
   "cell_type": "markdown",
   "metadata": {},
   "source": [
    "The next thing we need to know how to do is histogram.  A histogram is a plot that counts the number of entries in each bin.  For this exercise we'll make some random data, according to poisson distributions, to practice with.  Don't worry too much about this block:"
   ]
  },
  {
   "cell_type": "code",
   "execution_count": null,
   "metadata": {},
   "outputs": [],
   "source": [
    "import scipy.stats\n",
    "\n",
    "nsamples = 1000\n",
    "data1=scipy.stats.poisson.rvs(3,  size=nsamples)\n",
    "data2=scipy.stats.poisson.rvs(2,  size=nsamples)\n",
    "data3=scipy.stats.poisson.rvs(1,  size=nsamples)\n",
    "data4=scipy.stats.poisson.rvs(.1, size=nsamples)"
   ]
  },
  {
   "cell_type": "code",
   "execution_count": null,
   "metadata": {},
   "outputs": [],
   "source": [
    "print(data1[0:10])"
   ]
  },
  {
   "cell_type": "markdown",
   "metadata": {},
   "source": [
    "Now we have some datasets we can make histograms.  If you just tell pylab to histogram the data, it make its best guess at how you want it to look:"
   ]
  },
  {
   "cell_type": "code",
   "execution_count": null,
   "metadata": {},
   "outputs": [],
   "source": [
    "plt.hist(data1,bins=np.arange(0,100,1));\n",
    "#plt.hist(data2)\n",
    "#plt.hist(data3)\n",
    "#plt.hist(data4)"
   ]
  },
  {
   "cell_type": "markdown",
   "metadata": {},
   "source": [
    "When matplotlib plots a histogram it makes some decisions about what range to bin the data over and takes 10 bins by default. The result when plotting histograms together over different ranges is something that is difficult to look at. Let's specify the ranges and add a few touches we looked at in the plot example."
   ]
  },
  {
   "cell_type": "code",
   "execution_count": null,
   "metadata": {},
   "outputs": [],
   "source": [
    "plt.hist(data1,range=(0,15),bins=15,histtype='step',label=r'$\\lambda=3$')\n",
    "plt.hist(data2,range=(0,15),bins=15,histtype='step',label=r'$\\lambda=2$')\n",
    "plt.hist(data3,range=(0,15),bins=15,histtype='step',label=r'$\\lambda=1$')\n",
    "plt.hist(data4,range=(0,15),bins=15,histtype='step',label=r'$\\lambda=.1$')\n",
    "\n",
    "plt.xlabel(\"Data\",fontsize=14)\n",
    "plt.ylabel(\"Counts\",fontsize=14)\n",
    "plt.legend(fontsize=14,loc=1)"
   ]
  },
  {
   "cell_type": "markdown",
   "metadata": {},
   "source": [
    "# Exercises"
   ]
  },
  {
   "cell_type": "markdown",
   "metadata": {},
   "source": [
    "Take a look back at yesterdays plot of the fibonacci spiral.  See if you understand it all."
   ]
  },
  {
   "cell_type": "code",
   "execution_count": null,
   "metadata": {},
   "outputs": [],
   "source": [
    "# This was calculated in a previous lesson\n",
    "golden_ratio=1.618\n",
    "\n",
    "# Make a list of angle values, up to 3 rotation\n",
    "theta_values = np.arange(0, 6*np.pi, 0.1)\n",
    "\n",
    "# A golden spiral has a radius that grows as it rotates,\n",
    "# with a rate that depends on the golden ratio:\n",
    "spiral_growth_factor = np.log(golden_ratio)/(np.pi/2.)\n",
    "r_values = np.exp(spiral_growth_factor*theta_values)\n",
    "\n",
    "# Get the x and y values\n",
    "x_values = r_values * np.sin(theta_values)\n",
    "y_values = r_values * np.cos(theta_values)\n",
    "\n",
    "# make a plot\n",
    "plt.figure(figsize=(5,5))\n",
    "plt.plot(x_values,y_values)\n",
    "plt.xlim(-400,400)\n",
    "plt.ylim(-400,400)\n",
    "plt.xlabel(\"X\")\n",
    "plt.ylabel(\"Y\")\n",
    "plt.title(\"The Golden Spiral\")"
   ]
  },
  {
   "cell_type": "code",
   "execution_count": null,
   "metadata": {},
   "outputs": [],
   "source": [
    "# Add another golden spiral over the top of the first one, spinning the oposite direction\n"
   ]
  },
  {
   "cell_type": "code",
   "execution_count": null,
   "metadata": {},
   "outputs": [],
   "source": [
    "# Plot the ratio of the fibonacci numbers vs the depth into the sequence for the first 30.  \n",
    "# The sequence should converge to the golden_ratio value\n"
   ]
  },
  {
   "cell_type": "code",
   "execution_count": null,
   "metadata": {},
   "outputs": [],
   "source": [
    "# Histogram the ratios of the first 30 in the sequence.  \n",
    "# Use bins of width 0.01 between 1.6 and 1.7 for the histogram\n"
   ]
  },
  {
   "cell_type": "markdown",
   "metadata": {},
   "source": [
    "# Challenge:\n",
    "The following arrays `t` and `data` contain simulated voltage vs. time \"data\" generated from a sinusoidal model. Make a pair of plots (using subplots) one above the other that show: \n",
    "* the data and the model on the top plot with data as black circular points and data as a solid red line\n",
    "* the \"residuals\" (model minus data) as black points on the bottom plot\n",
    "* since the two plots have a common x-axis, have the two plots share a *single* x-axis. HINT: use the sharex= keyword\n",
    "* Make the upper plot 3x taller than the lower one (HINT: use the height_ratios= keyword)\n",
    "* Be sure to label your axes and include a legend on the top plot\n",
    "* Save your figure as a .png file (HINT: see plt.savefig())\n",
    "\n",
    "Your result should look like this:\n",
    "\n",
    "<img src=\"img/data_and_residuals.png\" style=\"width: 600px;\"/>\n",
    "\n"
   ]
  },
  {
   "cell_type": "code",
   "execution_count": null,
   "metadata": {},
   "outputs": [],
   "source": []
  }
 ],
 "metadata": {
  "kernelspec": {
   "display_name": "Python 3 (ipykernel)",
   "language": "python",
   "name": "python3"
  },
  "language_info": {
   "codemirror_mode": {
    "name": "ipython",
    "version": 3
   },
   "file_extension": ".py",
   "mimetype": "text/x-python",
   "name": "python",
   "nbconvert_exporter": "python",
   "pygments_lexer": "ipython3",
   "version": "3.12.8"
  }
 },
 "nbformat": 4,
 "nbformat_minor": 4
}

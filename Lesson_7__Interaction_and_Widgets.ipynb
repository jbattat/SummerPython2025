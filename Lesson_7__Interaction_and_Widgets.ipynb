{
 "cells": [
  {
   "cell_type": "markdown",
   "id": "a4902573-28f7-4ab5-9d7a-bc7ea7a55ce8",
   "metadata": {},
   "source": [
    "# Widgets\n",
    "Widgets in Jupyter Notebook are interactive components or controls that allow users to interact with data and dynamically modify it. They can be buttons, sliders, checkboxes, dropdown menus, text boxes, and more. These widgets enable users to create rich and responsive user interfaces in notebooks, making data exploration and analysis more intuitive and engaging.\n",
    "\n",
    "Widgets have a wide range of applications, including:\n",
    "+ Data visualization: Widgets can be used to create interactive charts, plots, and graphs that respond to user inputs.\n",
    "+ Parameter tuning: Widgets allow users to dynamically adjust parameters in models or algorithms and observe the effects in real-time.\n",
    "+ Data exploration: Widgets enable users to filter and interact with data, providing a more dynamic and interactive exploration experience.\n",
    "+ Dashboard creation: Widgets can be combined to create interactive dashboards and reports, allowing users to explore data from multiple angles."
   ]
  },
  {
   "cell_type": "code",
   "execution_count": 21,
   "id": "4be41c44-742b-43f4-9e5f-0f1bb9470897",
   "metadata": {},
   "outputs": [],
   "source": [
    "# uncomment the following line if widgets are not yet installed (only need to run once)\n",
    "#!pip install ipywidgets"
   ]
  },
  {
   "cell_type": "code",
   "execution_count": 22,
   "id": "1fb90d1a-0e46-4108-84c1-5df2d61d6b10",
   "metadata": {},
   "outputs": [],
   "source": [
    "import ipywidgets as widgets"
   ]
  },
  {
   "cell_type": "markdown",
   "id": "3e1495c3-54c9-4c53-b09e-1891600b34a1",
   "metadata": {},
   "source": [
    "Next, you can create an instance of a widget class with the desired parameters. Widgets have various types, such as sliders, buttons, checkboxes, dropdown menus, and text boxes. Here’s an example of creating a simple slider widget:"
   ]
  },
  {
   "cell_type": "code",
   "execution_count": 23,
   "id": "081df172-8db2-4894-b1a1-4da5baefc39f",
   "metadata": {},
   "outputs": [],
   "source": [
    "slider = widgets.IntSlider(value=5, min=0, max=10, step=1)"
   ]
  },
  {
   "cell_type": "markdown",
   "id": "49e0a24d-1f82-47db-956a-03058b1d1d89",
   "metadata": {},
   "source": [
    "In this case, we create an IntSlider widget that represents an integer value. It has an initial value 5, a minimum value of 0, a maximum value of 10, and a step size of 1.\n",
    "\n",
    "To display the widget, you can simply write the name of the widget object in a Jupyter Notebook cell:"
   ]
  },
  {
   "cell_type": "code",
   "execution_count": 24,
   "id": "d5b7c418-86a7-4eda-bb99-be9afd60cd1e",
   "metadata": {},
   "outputs": [
    {
     "data": {
      "application/vnd.jupyter.widget-view+json": {
       "model_id": "31eb96ac00614350afd6b8c3cd8ae6ce",
       "version_major": 2,
       "version_minor": 0
      },
      "text/plain": [
       "IntSlider(value=5, max=10)"
      ]
     },
     "execution_count": 24,
     "metadata": {},
     "output_type": "execute_result"
    }
   ],
   "source": [
    "slider"
   ]
  },
  {
   "cell_type": "markdown",
   "id": "e17eb404-ed71-4e5f-a363-8a0759f527d4",
   "metadata": {},
   "source": [
    "# Interactive Function\n",
    "Widgets can also be used to interact with functions. The interact function from ipywidgets allows you to create a widget that interacts with a function. Here’s an example:"
   ]
  },
  {
   "cell_type": "code",
   "execution_count": 25,
   "id": "a5c6e7b4-bc42-473b-8b83-626262eacdfe",
   "metadata": {},
   "outputs": [
    {
     "data": {
      "application/vnd.jupyter.widget-view+json": {
       "model_id": "a98ea3e6230b4dee889076076d8ba4c1",
       "version_major": 2,
       "version_minor": 0
      },
      "text/plain": [
       "interactive(children=(IntSlider(value=10, continuous_update=False, description='My Slider:', max=20), Output()…"
      ]
     },
     "metadata": {},
     "output_type": "display_data"
    }
   ],
   "source": [
    "my_slider = widgets.IntSlider(\n",
    "    value=10,\n",
    "    min=0,\n",
    "    max=20,\n",
    "    step=1,\n",
    "    description='My Slider:',\n",
    "    disabled=False,\n",
    "    continuous_update=False,\n",
    "    orientation='horizontal',\n",
    "    readout=True,\n",
    "    readout_format='d'\n",
    ")\n",
    "\n",
    "def compute_square(num):\n",
    "    print (num * num)\n",
    "\n",
    "widgets.interact(compute_square, num = my_slider);"
   ]
  },
  {
   "cell_type": "markdown",
   "id": "495ef98a-078e-4968-8788-112be2c6a6ae",
   "metadata": {},
   "source": [
    "# Widget Callbacks\n",
    "Widgets can be connected to Python functions, enabling you to respond to changes in widget values. Here’s an example using a slider and a function that updates a plot based on the slider’s value:"
   ]
  },
  {
   "cell_type": "code",
   "execution_count": 26,
   "id": "c15d799d-b8bb-49bb-8f8c-7a06ce6c5022",
   "metadata": {},
   "outputs": [
    {
     "data": {
      "application/vnd.jupyter.widget-view+json": {
       "model_id": "a06045f9ce874f829f92355712e1cc07",
       "version_major": 2,
       "version_minor": 0
      },
      "text/plain": [
       "VBox(children=(IntSlider(value=0), Output()))"
      ]
     },
     "execution_count": 26,
     "metadata": {},
     "output_type": "execute_result"
    }
   ],
   "source": [
    "slider = widgets.IntSlider(value=0, min=0, max=100, step=1)\n",
    "output = widgets.Output()\n",
    "\n",
    "def handle_slider_change(change):\n",
    "    with output:\n",
    "        output.clear_output()\n",
    "        print(f\"The new slider value is: {change.new}\")\n",
    "\n",
    "slider.observe(handle_slider_change, 'value')\n",
    "\n",
    "widgets.VBox([slider, output])"
   ]
  },
  {
   "cell_type": "markdown",
   "id": "5ac564c8-ee6b-4353-ab83-0693da775249",
   "metadata": {},
   "source": [
    "# Using widgets for exploratory data analysis\n",
    "In this part, we are going to use some popular widgets to perform some EDA tasks such as find mean, median and plot some graphs. We are going to use the Penguin Dataset."
   ]
  },
  {
   "cell_type": "code",
   "execution_count": 17,
   "id": "b2e44265-07b0-4c68-ac0e-cdb9c5a84683",
   "metadata": {},
   "outputs": [],
   "source": [
    "# we'll make use of a plotting library called \"seaborn\", so if you need to install it, uncomment the next line and run this cell\n",
    "#!pip install seaborn"
   ]
  },
  {
   "cell_type": "code",
   "execution_count": 29,
   "id": "9906d17a-67c9-4a8d-8e0a-63e171d405ee",
   "metadata": {},
   "outputs": [],
   "source": [
    "import pandas as pd\n",
    "import seaborn as sns\n",
    "\n",
    "penguins = pd.read_csv('penguins_size.csv')"
   ]
  },
  {
   "cell_type": "markdown",
   "id": "14ca2692-f857-4391-b683-9dd5c7efc5c9",
   "metadata": {},
   "source": [
    "This dataset contains measurements of various penguin species collected on different islands, including body mass, bill length and depth, and flipper length.\n",
    "\n",
    "We then define a function called eda_widget() that takes three arguments representing the selected values of the sex, island, and species widgets. The purpose of this function is to perform exploratory data analysis on the penguins dataset based on the selected widget values, and generate some summary statistics and visualizations."
   ]
  },
  {
   "cell_type": "code",
   "execution_count": 30,
   "id": "3550186f-68ed-4811-ac1a-69b50943ae71",
   "metadata": {},
   "outputs": [],
   "source": [
    "def eda_widget(sex, island, species):\n",
    "    # Filter the dataset based on the selected widget values\n",
    "    df = penguins[(penguins['sex'] == sex) & (penguins['island'] == island) & (penguins['species'] == species)]\n",
    "\n",
    "    # Compute some summary statistics\n",
    "    num_rows = len(df)\n",
    "    mean_body_mass = df['body_mass_g'].mean()\n",
    "    median_body_mass = df['body_mass_g'].median()\n",
    "\n",
    "    # Create some plots\n",
    "    fig, axs = plt.subplots(ncols=2, figsize=(12, 6))\n",
    "    sns.histplot(data=df, x='culmen_length_mm', hue='sex', ax=axs[0])\n",
    "    axs[0].set_title('Distribution of culmen length by sex')\n",
    "    sns.scatterplot(data=df, x='culmen_depth_mm', y='body_mass_g', hue='species', ax=axs[1])\n",
    "    axs[1].set_title('Scatter plot of culmen depth vs. body mass by species')\n",
    "    plt.show()\n",
    "\n",
    "    # Display the summary statistics\n",
    "    print(f\"Number of penguins: {num_rows}\")\n",
    "    print(f\"Mean body mass: {mean_body_mass:.2f} g\")\n",
    "    print(f\"Median body mass: {median_body_mass:.2f} g\")"
   ]
  },
  {
   "cell_type": "markdown",
   "id": "0fc940b9-33fc-410d-aea9-aaf9de16fc63",
   "metadata": {},
   "source": [
    "In this function, we first filter the penguins dataset based on the selected widget values using Pandas boolean indexing. We create a new DataFrame called df that contains only the rows where the sex, island, and species columns match the selected values.\n",
    "\n",
    "We then compute some summary statistics for the filtered DataFrame using Pandas methods. We calculate the number of rows in the DataFrame using the `len()` function, and the mean and median body mass using the `mean()` and `median()` methods of the `body_mass_g` column.\n",
    "\n",
    "Finally, we generate two plots using the seaborn library. The first plot is a histogram of bill length by sex, and the second plot is a scatter plot of bill depth vs. body mass by species. We display the plots using the `plt.show()` function.\n",
    "\n",
    "We also display the summary statistics using the `print` function. We use formatted strings to insert the calculated values into the output.\n",
    "\n",
    "Next, we create three widgets using the Dropdown class from the `ipywidgets` library:"
   ]
  },
  {
   "cell_type": "code",
   "execution_count": 31,
   "id": "7e885414-a7b8-4a10-ab9f-ba6bdb512f63",
   "metadata": {},
   "outputs": [],
   "source": [
    "sex_widget = widgets.Dropdown(options=['MALE', 'FEMALE'], description='Sex:')\n",
    "island_widget = widgets.Dropdown(options=['Biscoe', 'Dream', 'Torgersen'], description='Island:')\n",
    "species_widget = widgets.Dropdown(options=['Adelie', 'Chinstrap', 'Gentoo'], description='Species:')"
   ]
  },
  {
   "cell_type": "markdown",
   "id": "f26e0d6d-3754-4ee8-846e-b1db7dd6cf7f",
   "metadata": {},
   "source": [
    "We next create an instance of the interact() function from the ipywidgets library. This function takes the eda_widget() function as its first argument, and the three widget objects as its remaining arguments. The purpose of this function is to create a user interface that allows the user to select values for the three widgets and see the results of the eda_widget() function based on their selections."
   ]
  },
  {
   "cell_type": "code",
   "execution_count": 32,
   "id": "0634878c-6c19-43f6-8ca9-4e6910c75fb6",
   "metadata": {},
   "outputs": [
    {
     "data": {
      "application/vnd.jupyter.widget-view+json": {
       "model_id": "2588f44270744fdc81aa86d751d289b3",
       "version_major": 2,
       "version_minor": 0
      },
      "text/plain": [
       "interactive(children=(Dropdown(description='Sex:', options=('MALE', 'FEMALE'), value='MALE'), Dropdown(descrip…"
      ]
     },
     "metadata": {},
     "output_type": "display_data"
    }
   ],
   "source": [
    "widgets.interact(eda_widget, sex=sex_widget, island=island_widget, species=species_widget);"
   ]
  },
  {
   "cell_type": "markdown",
   "id": "f2396478-9fba-4a5c-b687-f5135f026f4f",
   "metadata": {},
   "source": [
    "# Challenge\n",
    "In the simplified two neutrino paradigm, the equation for the probability that an electron neutrino to be measured as a muon neutrino is given by:\n",
    "$$ P(\\nu_e\\rightarrow\\nu_{\\mu}) = \\sin^2(2\\theta) \\sin^2\\left(\\frac{\\Delta m^2 c^4}{4 \\hbar c}\\frac{L}{E}\\right) $$\n",
    "where $E$ is the neutrino energy, $L$ is the distance the neutrino has traveled and $\\Delta m^2 \\equiv m_1^2-m_2^2$ is the mass difference between the two neutrino mass states $\\nu_1$ and $\\nu_2$. The term $\\hbar c$ is the reduced Planck's constant (times the speed of light), and has a value of 0.19732 GeV fm, where 1 fm (\"one femtometer\" aka \"one fermi\") is $10^{-15}$ meters.\n",
    "\n",
    "Step 1: Make a plot of $P(\\nu_e\\rightarrow\\nu_{\\mu})$ as a function of distance traveled $L$ using $\\Delta m^2c^4 = 8\\times 10^{-5}$eV$^2$, and $2\\theta = 69^o$. Do this for a typical DUNE neutrino energy (2 GeV).\n",
    "\n",
    "Step 2: Add a second curve to the same plot to represent the \"survival probability\" -- the probabilty that the elelctron neutrino remains an electron neutrino after traveling a distance $L$: $P(\\nu_e\\rightarrow\\nu_e)$.\n",
    "\n",
    "Step 3: Visualize the effect of the value of $2\\theta$ on the oscillation probability by making $2\\theta$ adjustable via a slider widget.\n",
    "\n"
   ]
  },
  {
   "cell_type": "code",
   "execution_count": null,
   "id": "1342cd1b-9494-4355-9df1-d4bf7885cef8",
   "metadata": {},
   "outputs": [],
   "source": []
  }
 ],
 "metadata": {
  "kernelspec": {
   "display_name": "Python 3 (ipykernel)",
   "language": "python",
   "name": "python3"
  },
  "language_info": {
   "codemirror_mode": {
    "name": "ipython",
    "version": 3
   },
   "file_extension": ".py",
   "mimetype": "text/x-python",
   "name": "python",
   "nbconvert_exporter": "python",
   "pygments_lexer": "ipython3",
   "version": "3.8.1"
  }
 },
 "nbformat": 4,
 "nbformat_minor": 5
}
